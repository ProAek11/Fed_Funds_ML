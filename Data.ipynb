{
 "cells": [
  {
   "cell_type": "markdown",
   "metadata": {},
   "source": [
    "# Setup"
   ]
  },
  {
   "cell_type": "code",
   "execution_count": 14,
   "metadata": {
    "collapsed": true
   },
   "outputs": [],
   "source": [
    "import pandas as pd\n",
    "import numpy as np\n",
    "import matplotlib.pyplot as plt\n",
    "from sklearn import model_selection, metrics  #to include metrics for evaluation \n",
    "from sklearn.model_selection import train_test_split\n",
    "%matplotlib inline"
   ]
  },
  {
   "cell_type": "markdown",
   "metadata": {},
   "source": [
    "# Fed funds rate data: add a column denoting rate changed or not from previous month"
   ]
  },
  {
   "cell_type": "code",
   "execution_count": 15,
   "metadata": {
    "collapsed": true
   },
   "outputs": [],
   "source": [
    "ffr_df = pd.read_csv('fedfundsrates/fed_funds_target_rates_Dec2018_Sep1982.csv')"
   ]
  },
  {
   "cell_type": "code",
   "execution_count": 16,
   "metadata": {},
   "outputs": [
    {
     "data": {
      "text/html": [
       "<div>\n",
       "<style scoped>\n",
       "    .dataframe tbody tr th:only-of-type {\n",
       "        vertical-align: middle;\n",
       "    }\n",
       "\n",
       "    .dataframe tbody tr th {\n",
       "        vertical-align: top;\n",
       "    }\n",
       "\n",
       "    .dataframe thead th {\n",
       "        text-align: right;\n",
       "    }\n",
       "</style>\n",
       "<table border=\"1\" class=\"dataframe\">\n",
       "  <thead>\n",
       "    <tr style=\"text-align: right;\">\n",
       "      <th></th>\n",
       "      <th>DATE</th>\n",
       "      <th>DFEDTAR_20081215</th>\n",
       "    </tr>\n",
       "  </thead>\n",
       "  <tbody>\n",
       "    <tr>\n",
       "      <th>0</th>\n",
       "      <td>9/27/82</td>\n",
       "      <td>10.25</td>\n",
       "    </tr>\n",
       "    <tr>\n",
       "      <th>1</th>\n",
       "      <td>9/28/82</td>\n",
       "      <td>10.25</td>\n",
       "    </tr>\n",
       "    <tr>\n",
       "      <th>2</th>\n",
       "      <td>9/29/82</td>\n",
       "      <td>10.25</td>\n",
       "    </tr>\n",
       "    <tr>\n",
       "      <th>3</th>\n",
       "      <td>9/30/82</td>\n",
       "      <td>10.25</td>\n",
       "    </tr>\n",
       "    <tr>\n",
       "      <th>4</th>\n",
       "      <td>10/1/82</td>\n",
       "      <td>10.00</td>\n",
       "    </tr>\n",
       "  </tbody>\n",
       "</table>\n",
       "</div>"
      ],
      "text/plain": [
       "      DATE  DFEDTAR_20081215\n",
       "0  9/27/82             10.25\n",
       "1  9/28/82             10.25\n",
       "2  9/29/82             10.25\n",
       "3  9/30/82             10.25\n",
       "4  10/1/82             10.00"
      ]
     },
     "execution_count": 16,
     "metadata": {},
     "output_type": "execute_result"
    }
   ],
   "source": [
    "# Check if it renders correctly\n",
    "ffr_df.head()"
   ]
  },
  {
   "cell_type": "code",
   "execution_count": 17,
   "metadata": {},
   "outputs": [
    {
     "name": "stdout",
     "output_type": "stream",
     "text": [
      "<class 'pandas.core.frame.DataFrame'>\n",
      "RangeIndex: 9587 entries, 0 to 9586\n",
      "Data columns (total 2 columns):\n",
      "DATE                9587 non-null object\n",
      "DFEDTAR_20081215    9587 non-null float64\n",
      "dtypes: float64(1), object(1)\n",
      "memory usage: 149.9+ KB\n"
     ]
    }
   ],
   "source": [
    "# Info about the data\n",
    "ffr_df.info()"
   ]
  },
  {
   "cell_type": "code",
   "execution_count": 19,
   "metadata": {},
   "outputs": [
    {
     "name": "stdout",
     "output_type": "stream",
     "text": [
      "          DATE  DFEDTAR_20081215    Diff\n",
      "0      9/27/82           10.2500     NaN\n",
      "1      9/28/82           10.2500  0.0000\n",
      "2      9/29/82           10.2500  0.0000\n",
      "3      9/30/82           10.2500  0.0000\n",
      "4      10/1/82           10.0000 -0.2500\n",
      "5      10/2/82           10.0000  0.0000\n",
      "6      10/3/82           10.0000  0.0000\n",
      "7      10/4/82           10.0000  0.0000\n",
      "8      10/5/82           10.0000  0.0000\n",
      "9      10/6/82           10.0000  0.0000\n",
      "10     10/7/82            9.5000 -0.5000\n",
      "11     10/8/82            9.5000  0.0000\n",
      "12     10/9/82            9.5000  0.0000\n",
      "13    10/10/82            9.5000  0.0000\n",
      "14    10/11/82            9.5000  0.0000\n",
      "15    10/12/82            9.5000  0.0000\n",
      "16    10/13/82            9.5000  0.0000\n",
      "17    10/14/82            9.5000  0.0000\n",
      "18    10/15/82            9.5000  0.0000\n",
      "19    10/16/82            9.5000  0.0000\n",
      "20    10/17/82            9.5000  0.0000\n",
      "21    10/18/82            9.5000  0.0000\n",
      "22    10/19/82            9.5000  0.0000\n",
      "23    10/20/82            9.5000  0.0000\n",
      "24    10/21/82            9.5000  0.0000\n",
      "25    10/22/82            9.5000  0.0000\n",
      "26    10/23/82            9.5000  0.0000\n",
      "27    10/24/82            9.5000  0.0000\n",
      "28    10/25/82            9.5000  0.0000\n",
      "29    10/26/82            9.5000  0.0000\n",
      "...        ...               ...     ...\n",
      "9557  11/26/08            1.0000  0.0000\n",
      "9558  11/27/08            1.0000  0.0000\n",
      "9559  11/28/08            1.0000  0.0000\n",
      "9560  11/29/08            1.0000  0.0000\n",
      "9561  11/30/08            1.0000  0.0000\n",
      "9562   12/1/08            1.0000  0.0000\n",
      "9563   12/2/08            1.0000  0.0000\n",
      "9564   12/3/08            1.0000  0.0000\n",
      "9565   12/4/08            1.0000  0.0000\n",
      "9566   12/5/08            1.0000  0.0000\n",
      "9567   12/6/08            1.0000  0.0000\n",
      "9568   12/7/08            1.0000  0.0000\n",
      "9569   12/8/08            1.0000  0.0000\n",
      "9570   12/9/08            1.0000  0.0000\n",
      "9571  12/10/08            1.0000  0.0000\n",
      "9572  12/11/08            1.0000  0.0000\n",
      "9573  12/12/08            1.0000  0.0000\n",
      "9574  12/13/08            1.0000  0.0000\n",
      "9575  12/14/08            1.0000  0.0000\n",
      "9576  12/15/08            1.0000  0.0000\n",
      "9577  12/16/08            0.0125 -0.9875\n",
      "9578  12/17/15            0.3750  0.3625\n",
      "9579  12/15/16            0.6250  0.2500\n",
      "9580   3/16/17            0.9750  0.3500\n",
      "9581   6/15/17            1.1250  0.1500\n",
      "9582  12/14/17            1.3750  0.2500\n",
      "9583   3/22/18            1.6250  0.2500\n",
      "9584   6/14/18            1.8750  0.2500\n",
      "9585   9/27/18            2.1250  0.2500\n",
      "9586  12/20/18            2.3750  0.2500\n",
      "\n",
      "[9587 rows x 3 columns]\n"
     ]
    }
   ],
   "source": [
    "# Add a new column that denotes how much the rate changed from the previous month\n",
    "ffr_df = pd.read_csv('fedfundsrates/fed_funds_target_rates_Dec2018_Sep1982.csv')\n",
    "df = pd.DataFrame(ffr_df)\n",
    "df['Diff'] = df['DFEDTAR_20081215'].diff(1)\n",
    "print(df) \n"
   ]
  },
  {
   "cell_type": "code",
   "execution_count": 20,
   "metadata": {},
   "outputs": [
    {
     "name": "stdout",
     "output_type": "stream",
     "text": [
      "          DATE  DFEDTAR_20081215    Diff  Changed\n",
      "0      9/27/82           10.2500     NaN        1\n",
      "1      9/28/82           10.2500  0.0000        0\n",
      "2      9/29/82           10.2500  0.0000        0\n",
      "3      9/30/82           10.2500  0.0000        0\n",
      "4      10/1/82           10.0000 -0.2500        1\n",
      "5      10/2/82           10.0000  0.0000        0\n",
      "6      10/3/82           10.0000  0.0000        0\n",
      "7      10/4/82           10.0000  0.0000        0\n",
      "8      10/5/82           10.0000  0.0000        0\n",
      "9      10/6/82           10.0000  0.0000        0\n",
      "10     10/7/82            9.5000 -0.5000        1\n",
      "11     10/8/82            9.5000  0.0000        0\n",
      "12     10/9/82            9.5000  0.0000        0\n",
      "13    10/10/82            9.5000  0.0000        0\n",
      "14    10/11/82            9.5000  0.0000        0\n",
      "15    10/12/82            9.5000  0.0000        0\n",
      "16    10/13/82            9.5000  0.0000        0\n",
      "17    10/14/82            9.5000  0.0000        0\n",
      "18    10/15/82            9.5000  0.0000        0\n",
      "19    10/16/82            9.5000  0.0000        0\n",
      "20    10/17/82            9.5000  0.0000        0\n",
      "21    10/18/82            9.5000  0.0000        0\n",
      "22    10/19/82            9.5000  0.0000        0\n",
      "23    10/20/82            9.5000  0.0000        0\n",
      "24    10/21/82            9.5000  0.0000        0\n",
      "25    10/22/82            9.5000  0.0000        0\n",
      "26    10/23/82            9.5000  0.0000        0\n",
      "27    10/24/82            9.5000  0.0000        0\n",
      "28    10/25/82            9.5000  0.0000        0\n",
      "29    10/26/82            9.5000  0.0000        0\n",
      "...        ...               ...     ...      ...\n",
      "9557  11/26/08            1.0000  0.0000        0\n",
      "9558  11/27/08            1.0000  0.0000        0\n",
      "9559  11/28/08            1.0000  0.0000        0\n",
      "9560  11/29/08            1.0000  0.0000        0\n",
      "9561  11/30/08            1.0000  0.0000        0\n",
      "9562   12/1/08            1.0000  0.0000        0\n",
      "9563   12/2/08            1.0000  0.0000        0\n",
      "9564   12/3/08            1.0000  0.0000        0\n",
      "9565   12/4/08            1.0000  0.0000        0\n",
      "9566   12/5/08            1.0000  0.0000        0\n",
      "9567   12/6/08            1.0000  0.0000        0\n",
      "9568   12/7/08            1.0000  0.0000        0\n",
      "9569   12/8/08            1.0000  0.0000        0\n",
      "9570   12/9/08            1.0000  0.0000        0\n",
      "9571  12/10/08            1.0000  0.0000        0\n",
      "9572  12/11/08            1.0000  0.0000        0\n",
      "9573  12/12/08            1.0000  0.0000        0\n",
      "9574  12/13/08            1.0000  0.0000        0\n",
      "9575  12/14/08            1.0000  0.0000        0\n",
      "9576  12/15/08            1.0000  0.0000        0\n",
      "9577  12/16/08            0.0125 -0.9875        1\n",
      "9578  12/17/15            0.3750  0.3625        1\n",
      "9579  12/15/16            0.6250  0.2500        1\n",
      "9580   3/16/17            0.9750  0.3500        1\n",
      "9581   6/15/17            1.1250  0.1500        1\n",
      "9582  12/14/17            1.3750  0.2500        1\n",
      "9583   3/22/18            1.6250  0.2500        1\n",
      "9584   6/14/18            1.8750  0.2500        1\n",
      "9585   9/27/18            2.1250  0.2500        1\n",
      "9586  12/20/18            2.3750  0.2500        1\n",
      "\n",
      "[9587 rows x 4 columns]\n"
     ]
    }
   ],
   "source": [
    "# Add a new column to denote if a rate\n",
    "# changed based on the previous month\n",
    "# 1 is changed; 0 is did not change\n",
    "df['Changed'] = np.where(df['Diff']!=0.0000, 1, 0)\n",
    "print(df) "
   ]
  },
  {
   "cell_type": "markdown",
   "metadata": {},
   "source": [
    "# Text data: Create a dataframe that includes the cleaned text doc content and adds a column for the date of the document taken from the file name"
   ]
  },
  {
   "cell_type": "code",
   "execution_count": 21,
   "metadata": {
    "collapsed": true
   },
   "outputs": [],
   "source": [
    "# Get a list of filenames from the local cleaned statements directory using glob library \n",
    "import glob\n",
    "filenames = glob.glob('statements/statements.clean/*.txt')\n",
    "\n",
    "# Initialize an empty list\n",
    "# Then loop through the file list, and create a dictionary with the file dates and content\n",
    "records = []\n",
    "for filename in filenames:   \n",
    "    data = open(filename).read()\n",
    "    date = filename.split('/')[-1].split('.')[-2]\n",
    "    record = {'filedate':date,'document':data}\n",
    "    records.append(record)"
   ]
  },
  {
   "cell_type": "code",
   "execution_count": 22,
   "metadata": {},
   "outputs": [
    {
     "data": {
      "text/html": [
       "<div>\n",
       "<style scoped>\n",
       "    .dataframe tbody tr th:only-of-type {\n",
       "        vertical-align: middle;\n",
       "    }\n",
       "\n",
       "    .dataframe tbody tr th {\n",
       "        vertical-align: top;\n",
       "    }\n",
       "\n",
       "    .dataframe thead th {\n",
       "        text-align: right;\n",
       "    }\n",
       "</style>\n",
       "<table border=\"1\" class=\"dataframe\">\n",
       "  <thead>\n",
       "    <tr style=\"text-align: right;\">\n",
       "      <th></th>\n",
       "      <th>document</th>\n",
       "      <th>filedate</th>\n",
       "    </tr>\n",
       "  </thead>\n",
       "  <tbody>\n",
       "    <tr>\n",
       "      <th>0</th>\n",
       "      <td>fomc decid today rais target fedfundsr bas poi...</td>\n",
       "      <td>20051213</td>\n",
       "    </tr>\n",
       "    <tr>\n",
       "      <th>1</th>\n",
       "      <td>fomc meet today decid low target fedfundsr bas...</td>\n",
       "      <td>20010515</td>\n",
       "    </tr>\n",
       "    <tr>\n",
       "      <th>2</th>\n",
       "      <td>fomc decid today rais target fedfundsr bas poi...</td>\n",
       "      <td>20041214</td>\n",
       "    </tr>\n",
       "    <tr>\n",
       "      <th>3</th>\n",
       "      <td>fomc decid today leav target fedfundsr unchang...</td>\n",
       "      <td>19991005</td>\n",
       "    </tr>\n",
       "    <tr>\n",
       "      <th>4</th>\n",
       "      <td>fomc meet today decid maintain ex stant monet ...</td>\n",
       "      <td>20001219</td>\n",
       "    </tr>\n",
       "  </tbody>\n",
       "</table>\n",
       "</div>"
      ],
      "text/plain": [
       "                                            document  filedate\n",
       "0  fomc decid today rais target fedfundsr bas poi...  20051213\n",
       "1  fomc meet today decid low target fedfundsr bas...  20010515\n",
       "2  fomc decid today rais target fedfundsr bas poi...  20041214\n",
       "3  fomc decid today leav target fedfundsr unchang...  19991005\n",
       "4  fomc meet today decid maintain ex stant monet ...  20001219"
      ]
     },
     "execution_count": 22,
     "metadata": {},
     "output_type": "execute_result"
    }
   ],
   "source": [
    "docdf = pd.DataFrame(records)\n",
    "docdf.head()"
   ]
  },
  {
   "cell_type": "code",
   "execution_count": 25,
   "metadata": {},
   "outputs": [
    {
     "data": {
      "text/html": [
       "<div>\n",
       "<style scoped>\n",
       "    .dataframe tbody tr th:only-of-type {\n",
       "        vertical-align: middle;\n",
       "    }\n",
       "\n",
       "    .dataframe tbody tr th {\n",
       "        vertical-align: top;\n",
       "    }\n",
       "\n",
       "    .dataframe thead th {\n",
       "        text-align: right;\n",
       "    }\n",
       "</style>\n",
       "<table border=\"1\" class=\"dataframe\">\n",
       "  <thead>\n",
       "    <tr style=\"text-align: right;\">\n",
       "      <th></th>\n",
       "      <th>document</th>\n",
       "      <th>filedate</th>\n",
       "    </tr>\n",
       "  </thead>\n",
       "  <tbody>\n",
       "    <tr>\n",
       "      <th>0</th>\n",
       "      <td>fomc decid today rais target fedfundsr bas poi...</td>\n",
       "      <td>2005-12-13</td>\n",
       "    </tr>\n",
       "    <tr>\n",
       "      <th>1</th>\n",
       "      <td>fomc meet today decid low target fedfundsr bas...</td>\n",
       "      <td>2001-05-15</td>\n",
       "    </tr>\n",
       "    <tr>\n",
       "      <th>2</th>\n",
       "      <td>fomc decid today rais target fedfundsr bas poi...</td>\n",
       "      <td>2004-12-14</td>\n",
       "    </tr>\n",
       "    <tr>\n",
       "      <th>3</th>\n",
       "      <td>fomc decid today leav target fedfundsr unchang...</td>\n",
       "      <td>1999-10-05</td>\n",
       "    </tr>\n",
       "    <tr>\n",
       "      <th>4</th>\n",
       "      <td>fomc meet today decid maintain ex stant monet ...</td>\n",
       "      <td>2000-12-19</td>\n",
       "    </tr>\n",
       "  </tbody>\n",
       "</table>\n",
       "</div>"
      ],
      "text/plain": [
       "                                            document   filedate\n",
       "0  fomc decid today rais target fedfundsr bas poi... 2005-12-13\n",
       "1  fomc meet today decid low target fedfundsr bas... 2001-05-15\n",
       "2  fomc decid today rais target fedfundsr bas poi... 2004-12-14\n",
       "3  fomc decid today leav target fedfundsr unchang... 1999-10-05\n",
       "4  fomc meet today decid maintain ex stant monet ... 2000-12-19"
      ]
     },
     "execution_count": 25,
     "metadata": {},
     "output_type": "execute_result"
    }
   ],
   "source": [
    "# Modify filedate string to a timestamp\n",
    "docdf.filedate = pd.to_datetime(docdf.filedate, format='%Y%m%d')\n",
    "docdf.head()"
   ]
  },
  {
   "cell_type": "code",
   "execution_count": null,
   "metadata": {
    "collapsed": true
   },
   "outputs": [],
   "source": []
  }
 ],
 "metadata": {
  "kernelspec": {
   "display_name": "Python 3",
   "language": "python",
   "name": "python3"
  },
  "language_info": {
   "codemirror_mode": {
    "name": "ipython",
    "version": 3
   },
   "file_extension": ".py",
   "mimetype": "text/x-python",
   "name": "python",
   "nbconvert_exporter": "python",
   "pygments_lexer": "ipython3",
   "version": "3.7.3"
  },
  "stem_cell": {
   "cell_type": "raw",
   "metadata": {
    "pycharm": {
     "metadata": false
    }
   },
   "source": "# Setup\n\nimport pandas as pd\nimport numpy as np\nimport matplotlib.pyplot as plt\nimport seaborn as sns\nfrom sklearn import model_selection, metrics  #to include metrics for evaluation \nfrom sklearn.model_selection import train_test_split\n%matplotlib inline\n\n# Get the fed funds historical data I staged on AWS\n\n!wget https://s3-us-west-2.amazonaws.com/fedfundsml/Fed_funds_rate_1954_2019_NoHeader.csv\n\n# Check if it renders correctly\ndata_ff = pd.read_csv('Fed_funds_rate_1954_2019_NoHeader.csv')\ndata_ff.head()"
  }
 },
 "nbformat": 4,
 "nbformat_minor": 2
}
