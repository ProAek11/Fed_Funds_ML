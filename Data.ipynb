{
 "cells": [
  {
   "cell_type": "markdown",
   "metadata": {},
   "source": [
    "# Setup"
   ]
  },
  {
   "cell_type": "code",
   "execution_count": 1,
   "metadata": {
    "collapsed": true
   },
   "outputs": [],
   "source": [
    "import pandas as pd\n",
    "import numpy as np\n",
    "import matplotlib.pyplot as plt\n",
    "import seaborn as sns\n",
    "from datetime import date, datetime\n",
    "from sklearn import model_selection, metrics  #to include metrics for evaluation \n",
    "from sklearn.model_selection import train_test_split\n",
    "%matplotlib inline"
   ]
  },
  {
   "cell_type": "markdown",
   "metadata": {},
   "source": [
    "# Fed funds rate data: add a column denoting rate changed or not from previous month"
   ]
  },
  {
   "cell_type": "code",
   "execution_count": 2,
   "metadata": {
    "collapsed": true
   },
   "outputs": [],
   "source": [
    "ffr_df = pd.read_csv('fedfundsrates/fed_funds_target_rates_Dec2018_Sep1982.csv')"
   ]
  },
  {
   "cell_type": "code",
   "execution_count": 3,
   "metadata": {},
   "outputs": [
    {
     "data": {
      "text/html": [
       "<div>\n",
       "<style scoped>\n",
       "    .dataframe tbody tr th:only-of-type {\n",
       "        vertical-align: middle;\n",
       "    }\n",
       "\n",
       "    .dataframe tbody tr th {\n",
       "        vertical-align: top;\n",
       "    }\n",
       "\n",
       "    .dataframe thead th {\n",
       "        text-align: right;\n",
       "    }\n",
       "</style>\n",
       "<table border=\"1\" class=\"dataframe\">\n",
       "  <thead>\n",
       "    <tr style=\"text-align: right;\">\n",
       "      <th></th>\n",
       "      <th>DATE</th>\n",
       "      <th>DFEDTAR_20081215</th>\n",
       "    </tr>\n",
       "  </thead>\n",
       "  <tbody>\n",
       "    <tr>\n",
       "      <th>0</th>\n",
       "      <td>9/27/82</td>\n",
       "      <td>10.25</td>\n",
       "    </tr>\n",
       "    <tr>\n",
       "      <th>1</th>\n",
       "      <td>9/28/82</td>\n",
       "      <td>10.25</td>\n",
       "    </tr>\n",
       "    <tr>\n",
       "      <th>2</th>\n",
       "      <td>9/29/82</td>\n",
       "      <td>10.25</td>\n",
       "    </tr>\n",
       "    <tr>\n",
       "      <th>3</th>\n",
       "      <td>9/30/82</td>\n",
       "      <td>10.25</td>\n",
       "    </tr>\n",
       "    <tr>\n",
       "      <th>4</th>\n",
       "      <td>10/1/82</td>\n",
       "      <td>10.00</td>\n",
       "    </tr>\n",
       "  </tbody>\n",
       "</table>\n",
       "</div>"
      ],
      "text/plain": [
       "      DATE  DFEDTAR_20081215\n",
       "0  9/27/82             10.25\n",
       "1  9/28/82             10.25\n",
       "2  9/29/82             10.25\n",
       "3  9/30/82             10.25\n",
       "4  10/1/82             10.00"
      ]
     },
     "execution_count": 3,
     "metadata": {},
     "output_type": "execute_result"
    }
   ],
   "source": [
    "# Check if it renders correctly\n",
    "ffr_df.head()"
   ]
  },
  {
   "cell_type": "code",
   "execution_count": 4,
   "metadata": {},
   "outputs": [
    {
     "name": "stdout",
     "output_type": "stream",
     "text": [
      "<class 'pandas.core.frame.DataFrame'>\n",
      "RangeIndex: 9587 entries, 0 to 9586\n",
      "Data columns (total 2 columns):\n",
      "DATE                9587 non-null object\n",
      "DFEDTAR_20081215    9587 non-null float64\n",
      "dtypes: float64(1), object(1)\n",
      "memory usage: 149.9+ KB\n"
     ]
    }
   ],
   "source": [
    "# Info about the data\n",
    "ffr_df.info()"
   ]
  },
  {
   "cell_type": "code",
   "execution_count": 5,
   "metadata": {},
   "outputs": [
    {
     "data": {
      "text/html": [
       "<div>\n",
       "<style scoped>\n",
       "    .dataframe tbody tr th:only-of-type {\n",
       "        vertical-align: middle;\n",
       "    }\n",
       "\n",
       "    .dataframe tbody tr th {\n",
       "        vertical-align: top;\n",
       "    }\n",
       "\n",
       "    .dataframe thead th {\n",
       "        text-align: right;\n",
       "    }\n",
       "</style>\n",
       "<table border=\"1\" class=\"dataframe\">\n",
       "  <thead>\n",
       "    <tr style=\"text-align: right;\">\n",
       "      <th></th>\n",
       "      <th>DATE</th>\n",
       "      <th>DFEDTAR_20081215</th>\n",
       "      <th>Diff</th>\n",
       "    </tr>\n",
       "  </thead>\n",
       "  <tbody>\n",
       "    <tr>\n",
       "      <th>0</th>\n",
       "      <td>9/27/82</td>\n",
       "      <td>10.25</td>\n",
       "      <td>NaN</td>\n",
       "    </tr>\n",
       "    <tr>\n",
       "      <th>1</th>\n",
       "      <td>9/28/82</td>\n",
       "      <td>10.25</td>\n",
       "      <td>0.00</td>\n",
       "    </tr>\n",
       "    <tr>\n",
       "      <th>2</th>\n",
       "      <td>9/29/82</td>\n",
       "      <td>10.25</td>\n",
       "      <td>0.00</td>\n",
       "    </tr>\n",
       "    <tr>\n",
       "      <th>3</th>\n",
       "      <td>9/30/82</td>\n",
       "      <td>10.25</td>\n",
       "      <td>0.00</td>\n",
       "    </tr>\n",
       "    <tr>\n",
       "      <th>4</th>\n",
       "      <td>10/1/82</td>\n",
       "      <td>10.00</td>\n",
       "      <td>-0.25</td>\n",
       "    </tr>\n",
       "  </tbody>\n",
       "</table>\n",
       "</div>"
      ],
      "text/plain": [
       "      DATE  DFEDTAR_20081215  Diff\n",
       "0  9/27/82             10.25   NaN\n",
       "1  9/28/82             10.25  0.00\n",
       "2  9/29/82             10.25  0.00\n",
       "3  9/30/82             10.25  0.00\n",
       "4  10/1/82             10.00 -0.25"
      ]
     },
     "execution_count": 5,
     "metadata": {},
     "output_type": "execute_result"
    }
   ],
   "source": [
    "# Add a new column that denotes how much the rate changed from the previous month\n",
    "ffr_df = pd.read_csv('fedfundsrates/fed_funds_target_rates_Dec2018_Sep1982.csv')\n",
    "df = pd.DataFrame(ffr_df)\n",
    "df['Diff'] = df['DFEDTAR_20081215'].diff(1)\n",
    "df.head() \n"
   ]
  },
  {
   "cell_type": "code",
   "execution_count": 6,
   "metadata": {},
   "outputs": [
    {
     "data": {
      "text/html": [
       "<div>\n",
       "<style scoped>\n",
       "    .dataframe tbody tr th:only-of-type {\n",
       "        vertical-align: middle;\n",
       "    }\n",
       "\n",
       "    .dataframe tbody tr th {\n",
       "        vertical-align: top;\n",
       "    }\n",
       "\n",
       "    .dataframe thead th {\n",
       "        text-align: right;\n",
       "    }\n",
       "</style>\n",
       "<table border=\"1\" class=\"dataframe\">\n",
       "  <thead>\n",
       "    <tr style=\"text-align: right;\">\n",
       "      <th></th>\n",
       "      <th>DATE</th>\n",
       "      <th>DFEDTAR_20081215</th>\n",
       "      <th>Diff</th>\n",
       "      <th>Changed</th>\n",
       "    </tr>\n",
       "  </thead>\n",
       "  <tbody>\n",
       "    <tr>\n",
       "      <th>0</th>\n",
       "      <td>9/27/82</td>\n",
       "      <td>10.25</td>\n",
       "      <td>NaN</td>\n",
       "      <td>1</td>\n",
       "    </tr>\n",
       "    <tr>\n",
       "      <th>1</th>\n",
       "      <td>9/28/82</td>\n",
       "      <td>10.25</td>\n",
       "      <td>0.00</td>\n",
       "      <td>0</td>\n",
       "    </tr>\n",
       "    <tr>\n",
       "      <th>2</th>\n",
       "      <td>9/29/82</td>\n",
       "      <td>10.25</td>\n",
       "      <td>0.00</td>\n",
       "      <td>0</td>\n",
       "    </tr>\n",
       "    <tr>\n",
       "      <th>3</th>\n",
       "      <td>9/30/82</td>\n",
       "      <td>10.25</td>\n",
       "      <td>0.00</td>\n",
       "      <td>0</td>\n",
       "    </tr>\n",
       "    <tr>\n",
       "      <th>4</th>\n",
       "      <td>10/1/82</td>\n",
       "      <td>10.00</td>\n",
       "      <td>-0.25</td>\n",
       "      <td>1</td>\n",
       "    </tr>\n",
       "  </tbody>\n",
       "</table>\n",
       "</div>"
      ],
      "text/plain": [
       "      DATE  DFEDTAR_20081215  Diff  Changed\n",
       "0  9/27/82             10.25   NaN        1\n",
       "1  9/28/82             10.25  0.00        0\n",
       "2  9/29/82             10.25  0.00        0\n",
       "3  9/30/82             10.25  0.00        0\n",
       "4  10/1/82             10.00 -0.25        1"
      ]
     },
     "execution_count": 6,
     "metadata": {},
     "output_type": "execute_result"
    }
   ],
   "source": [
    "# Add a new column to denote IF a rate\n",
    "# changed based on the previous month\n",
    "# 1 is changed; 0 is did not change\n",
    "df['Changed'] = np.where(df['Diff']!=0.0000, 1, 0)\n",
    "df.head()"
   ]
  },
  {
   "cell_type": "code",
   "execution_count": 7,
   "metadata": {},
   "outputs": [
    {
     "data": {
      "text/html": [
       "<div>\n",
       "<style scoped>\n",
       "    .dataframe tbody tr th:only-of-type {\n",
       "        vertical-align: middle;\n",
       "    }\n",
       "\n",
       "    .dataframe tbody tr th {\n",
       "        vertical-align: top;\n",
       "    }\n",
       "\n",
       "    .dataframe thead th {\n",
       "        text-align: right;\n",
       "    }\n",
       "</style>\n",
       "<table border=\"1\" class=\"dataframe\">\n",
       "  <thead>\n",
       "    <tr style=\"text-align: right;\">\n",
       "      <th></th>\n",
       "      <th>DATE</th>\n",
       "      <th>DFEDTAR_20081215</th>\n",
       "      <th>Diff</th>\n",
       "      <th>Changed</th>\n",
       "    </tr>\n",
       "  </thead>\n",
       "  <tbody>\n",
       "    <tr>\n",
       "      <th>0</th>\n",
       "      <td>1982-09-27</td>\n",
       "      <td>10.25</td>\n",
       "      <td>NaN</td>\n",
       "      <td>1</td>\n",
       "    </tr>\n",
       "    <tr>\n",
       "      <th>1</th>\n",
       "      <td>1982-09-28</td>\n",
       "      <td>10.25</td>\n",
       "      <td>0.00</td>\n",
       "      <td>0</td>\n",
       "    </tr>\n",
       "    <tr>\n",
       "      <th>2</th>\n",
       "      <td>1982-09-29</td>\n",
       "      <td>10.25</td>\n",
       "      <td>0.00</td>\n",
       "      <td>0</td>\n",
       "    </tr>\n",
       "    <tr>\n",
       "      <th>3</th>\n",
       "      <td>1982-09-30</td>\n",
       "      <td>10.25</td>\n",
       "      <td>0.00</td>\n",
       "      <td>0</td>\n",
       "    </tr>\n",
       "    <tr>\n",
       "      <th>4</th>\n",
       "      <td>1982-10-01</td>\n",
       "      <td>10.00</td>\n",
       "      <td>-0.25</td>\n",
       "      <td>1</td>\n",
       "    </tr>\n",
       "  </tbody>\n",
       "</table>\n",
       "</div>"
      ],
      "text/plain": [
       "        DATE  DFEDTAR_20081215  Diff  Changed\n",
       "0 1982-09-27             10.25   NaN        1\n",
       "1 1982-09-28             10.25  0.00        0\n",
       "2 1982-09-29             10.25  0.00        0\n",
       "3 1982-09-30             10.25  0.00        0\n",
       "4 1982-10-01             10.00 -0.25        1"
      ]
     },
     "execution_count": 7,
     "metadata": {},
     "output_type": "execute_result"
    }
   ],
   "source": [
    "# Modify date string to a timestamp and put into format %Y%m%d\n",
    "\n",
    "# First remove the / then modify to date format %Y%m%d\n",
    "df['DATE'] = df['DATE'].replace('/', '', regex=True)\n",
    "\n",
    "# Put into date format m d Y\n",
    "df.DATE = pd.to_datetime(df.DATE, format='%m%d%y')\n",
    "df.head()"
   ]
  },
  {
   "cell_type": "code",
   "execution_count": 8,
   "metadata": {},
   "outputs": [
    {
     "data": {
      "text/html": [
       "<div>\n",
       "<style scoped>\n",
       "    .dataframe tbody tr th:only-of-type {\n",
       "        vertical-align: middle;\n",
       "    }\n",
       "\n",
       "    .dataframe tbody tr th {\n",
       "        vertical-align: top;\n",
       "    }\n",
       "\n",
       "    .dataframe thead th {\n",
       "        text-align: right;\n",
       "    }\n",
       "</style>\n",
       "<table border=\"1\" class=\"dataframe\">\n",
       "  <thead>\n",
       "    <tr style=\"text-align: right;\">\n",
       "      <th></th>\n",
       "      <th>date</th>\n",
       "      <th>DFEDTAR_20081215</th>\n",
       "      <th>Diff</th>\n",
       "      <th>Changed</th>\n",
       "    </tr>\n",
       "  </thead>\n",
       "  <tbody>\n",
       "    <tr>\n",
       "      <th>0</th>\n",
       "      <td>1982-09-27</td>\n",
       "      <td>10.25</td>\n",
       "      <td>NaN</td>\n",
       "      <td>1</td>\n",
       "    </tr>\n",
       "    <tr>\n",
       "      <th>1</th>\n",
       "      <td>1982-09-28</td>\n",
       "      <td>10.25</td>\n",
       "      <td>0.00</td>\n",
       "      <td>0</td>\n",
       "    </tr>\n",
       "    <tr>\n",
       "      <th>2</th>\n",
       "      <td>1982-09-29</td>\n",
       "      <td>10.25</td>\n",
       "      <td>0.00</td>\n",
       "      <td>0</td>\n",
       "    </tr>\n",
       "    <tr>\n",
       "      <th>3</th>\n",
       "      <td>1982-09-30</td>\n",
       "      <td>10.25</td>\n",
       "      <td>0.00</td>\n",
       "      <td>0</td>\n",
       "    </tr>\n",
       "    <tr>\n",
       "      <th>4</th>\n",
       "      <td>1982-10-01</td>\n",
       "      <td>10.00</td>\n",
       "      <td>-0.25</td>\n",
       "      <td>1</td>\n",
       "    </tr>\n",
       "  </tbody>\n",
       "</table>\n",
       "</div>"
      ],
      "text/plain": [
       "        date  DFEDTAR_20081215  Diff  Changed\n",
       "0 1982-09-27             10.25   NaN        1\n",
       "1 1982-09-28             10.25  0.00        0\n",
       "2 1982-09-29             10.25  0.00        0\n",
       "3 1982-09-30             10.25  0.00        0\n",
       "4 1982-10-01             10.00 -0.25        1"
      ]
     },
     "execution_count": 8,
     "metadata": {},
     "output_type": "execute_result"
    }
   ],
   "source": [
    "# Change the 'DATE' column to lower case 'date' so it looks better\n",
    "df.rename(columns={'DATE':'date'}, inplace=True)\n",
    "df.head()"
   ]
  },
  {
   "cell_type": "code",
   "execution_count": 9,
   "metadata": {},
   "outputs": [
    {
     "data": {
      "text/html": [
       "<div>\n",
       "<style scoped>\n",
       "    .dataframe tbody tr th:only-of-type {\n",
       "        vertical-align: middle;\n",
       "    }\n",
       "\n",
       "    .dataframe tbody tr th {\n",
       "        vertical-align: top;\n",
       "    }\n",
       "\n",
       "    .dataframe thead th {\n",
       "        text-align: right;\n",
       "    }\n",
       "</style>\n",
       "<table border=\"1\" class=\"dataframe\">\n",
       "  <thead>\n",
       "    <tr style=\"text-align: right;\">\n",
       "      <th></th>\n",
       "      <th>DFEDTAR_20081215</th>\n",
       "      <th>Diff</th>\n",
       "      <th>Changed</th>\n",
       "    </tr>\n",
       "    <tr>\n",
       "      <th>date</th>\n",
       "      <th></th>\n",
       "      <th></th>\n",
       "      <th></th>\n",
       "    </tr>\n",
       "  </thead>\n",
       "  <tbody>\n",
       "    <tr>\n",
       "      <th>1982-09-27</th>\n",
       "      <td>10.25</td>\n",
       "      <td>NaN</td>\n",
       "      <td>1</td>\n",
       "    </tr>\n",
       "    <tr>\n",
       "      <th>1982-09-28</th>\n",
       "      <td>10.25</td>\n",
       "      <td>0.00</td>\n",
       "      <td>0</td>\n",
       "    </tr>\n",
       "    <tr>\n",
       "      <th>1982-09-29</th>\n",
       "      <td>10.25</td>\n",
       "      <td>0.00</td>\n",
       "      <td>0</td>\n",
       "    </tr>\n",
       "    <tr>\n",
       "      <th>1982-09-30</th>\n",
       "      <td>10.25</td>\n",
       "      <td>0.00</td>\n",
       "      <td>0</td>\n",
       "    </tr>\n",
       "    <tr>\n",
       "      <th>1982-10-01</th>\n",
       "      <td>10.00</td>\n",
       "      <td>-0.25</td>\n",
       "      <td>1</td>\n",
       "    </tr>\n",
       "  </tbody>\n",
       "</table>\n",
       "</div>"
      ],
      "text/plain": [
       "            DFEDTAR_20081215  Diff  Changed\n",
       "date                                       \n",
       "1982-09-27             10.25   NaN        1\n",
       "1982-09-28             10.25  0.00        0\n",
       "1982-09-29             10.25  0.00        0\n",
       "1982-09-30             10.25  0.00        0\n",
       "1982-10-01             10.00 -0.25        1"
      ]
     },
     "execution_count": 9,
     "metadata": {},
     "output_type": "execute_result"
    }
   ],
   "source": [
    "# Set the index to 'date' column\n",
    "df = df.set_index('date')\n",
    "df.head()"
   ]
  },
  {
   "cell_type": "code",
   "execution_count": 10,
   "metadata": {},
   "outputs": [
    {
     "data": {
      "text/html": [
       "<div>\n",
       "<style scoped>\n",
       "    .dataframe tbody tr th:only-of-type {\n",
       "        vertical-align: middle;\n",
       "    }\n",
       "\n",
       "    .dataframe tbody tr th {\n",
       "        vertical-align: top;\n",
       "    }\n",
       "\n",
       "    .dataframe thead th {\n",
       "        text-align: right;\n",
       "    }\n",
       "</style>\n",
       "<table border=\"1\" class=\"dataframe\">\n",
       "  <thead>\n",
       "    <tr style=\"text-align: right;\">\n",
       "      <th></th>\n",
       "      <th>DFEDTAR_20081215</th>\n",
       "      <th>Diff</th>\n",
       "      <th>Changed</th>\n",
       "    </tr>\n",
       "    <tr>\n",
       "      <th>date</th>\n",
       "      <th></th>\n",
       "      <th></th>\n",
       "      <th></th>\n",
       "    </tr>\n",
       "  </thead>\n",
       "  <tbody>\n",
       "    <tr>\n",
       "      <th>1982-09-27</th>\n",
       "      <td>10.25</td>\n",
       "      <td>NaN</td>\n",
       "      <td>1</td>\n",
       "    </tr>\n",
       "    <tr>\n",
       "      <th>1982-09-28</th>\n",
       "      <td>10.25</td>\n",
       "      <td>0.00</td>\n",
       "      <td>0</td>\n",
       "    </tr>\n",
       "    <tr>\n",
       "      <th>1982-09-29</th>\n",
       "      <td>10.25</td>\n",
       "      <td>0.00</td>\n",
       "      <td>0</td>\n",
       "    </tr>\n",
       "    <tr>\n",
       "      <th>1982-09-30</th>\n",
       "      <td>10.25</td>\n",
       "      <td>0.00</td>\n",
       "      <td>0</td>\n",
       "    </tr>\n",
       "    <tr>\n",
       "      <th>1982-10-01</th>\n",
       "      <td>10.00</td>\n",
       "      <td>-0.25</td>\n",
       "      <td>1</td>\n",
       "    </tr>\n",
       "    <tr>\n",
       "      <th>1982-10-02</th>\n",
       "      <td>10.00</td>\n",
       "      <td>0.00</td>\n",
       "      <td>0</td>\n",
       "    </tr>\n",
       "    <tr>\n",
       "      <th>1982-10-03</th>\n",
       "      <td>10.00</td>\n",
       "      <td>0.00</td>\n",
       "      <td>0</td>\n",
       "    </tr>\n",
       "    <tr>\n",
       "      <th>1982-10-04</th>\n",
       "      <td>10.00</td>\n",
       "      <td>0.00</td>\n",
       "      <td>0</td>\n",
       "    </tr>\n",
       "    <tr>\n",
       "      <th>1982-10-05</th>\n",
       "      <td>10.00</td>\n",
       "      <td>0.00</td>\n",
       "      <td>0</td>\n",
       "    </tr>\n",
       "    <tr>\n",
       "      <th>1982-10-06</th>\n",
       "      <td>10.00</td>\n",
       "      <td>0.00</td>\n",
       "      <td>0</td>\n",
       "    </tr>\n",
       "  </tbody>\n",
       "</table>\n",
       "</div>"
      ],
      "text/plain": [
       "            DFEDTAR_20081215  Diff  Changed\n",
       "date                                       \n",
       "1982-09-27             10.25   NaN        1\n",
       "1982-09-28             10.25  0.00        0\n",
       "1982-09-29             10.25  0.00        0\n",
       "1982-09-30             10.25  0.00        0\n",
       "1982-10-01             10.00 -0.25        1\n",
       "1982-10-02             10.00  0.00        0\n",
       "1982-10-03             10.00  0.00        0\n",
       "1982-10-04             10.00  0.00        0\n",
       "1982-10-05             10.00  0.00        0\n",
       "1982-10-06             10.00  0.00        0"
      ]
     },
     "execution_count": 10,
     "metadata": {},
     "output_type": "execute_result"
    }
   ],
   "source": [
    "# Sort rate df by the index (which is now set to 'date')\n",
    "df = df.sort_index()\n",
    "df.head(10)"
   ]
  },
  {
   "cell_type": "markdown",
   "metadata": {},
   "source": [
    "# Text data: Create a dataframe that includes the cleaned text doc content and adds a column for the date of the document taken from the file name"
   ]
  },
  {
   "cell_type": "code",
   "execution_count": 11,
   "metadata": {
    "collapsed": true
   },
   "outputs": [],
   "source": [
    "# Get a list of filenames from the local cleaned statements directory using glob library \n",
    "import glob\n",
    "filenames = glob.glob('statements/statements.clean/*.txt')\n",
    "\n",
    "# Initialize an empty list\n",
    "# Then loop through the file list, and create a dictionary with the file dates and content\n",
    "records = []\n",
    "for filename in filenames:   \n",
    "    data = open(filename).read()\n",
    "    date = filename.split('/')[-1].split('.')[-2]\n",
    "    record = {'filedate':date,'document':data}\n",
    "    records.append(record)"
   ]
  },
  {
   "cell_type": "code",
   "execution_count": 12,
   "metadata": {},
   "outputs": [
    {
     "data": {
      "text/html": [
       "<div>\n",
       "<style scoped>\n",
       "    .dataframe tbody tr th:only-of-type {\n",
       "        vertical-align: middle;\n",
       "    }\n",
       "\n",
       "    .dataframe tbody tr th {\n",
       "        vertical-align: top;\n",
       "    }\n",
       "\n",
       "    .dataframe thead th {\n",
       "        text-align: right;\n",
       "    }\n",
       "</style>\n",
       "<table border=\"1\" class=\"dataframe\">\n",
       "  <thead>\n",
       "    <tr style=\"text-align: right;\">\n",
       "      <th></th>\n",
       "      <th>document</th>\n",
       "      <th>filedate</th>\n",
       "    </tr>\n",
       "  </thead>\n",
       "  <tbody>\n",
       "    <tr>\n",
       "      <th>0</th>\n",
       "      <td>fomc decid today rais target fedfundsr bas poi...</td>\n",
       "      <td>20051213</td>\n",
       "    </tr>\n",
       "    <tr>\n",
       "      <th>1</th>\n",
       "      <td>fomc meet today decid low target fedfundsr bas...</td>\n",
       "      <td>20010515</td>\n",
       "    </tr>\n",
       "    <tr>\n",
       "      <th>2</th>\n",
       "      <td>fomc decid today rais target fedfundsr bas poi...</td>\n",
       "      <td>20041214</td>\n",
       "    </tr>\n",
       "    <tr>\n",
       "      <th>3</th>\n",
       "      <td>fomc decid today leav target fedfundsr unchang...</td>\n",
       "      <td>19991005</td>\n",
       "    </tr>\n",
       "    <tr>\n",
       "      <th>4</th>\n",
       "      <td>fomc meet today decid maintain ex stant monet ...</td>\n",
       "      <td>20001219</td>\n",
       "    </tr>\n",
       "  </tbody>\n",
       "</table>\n",
       "</div>"
      ],
      "text/plain": [
       "                                            document  filedate\n",
       "0  fomc decid today rais target fedfundsr bas poi...  20051213\n",
       "1  fomc meet today decid low target fedfundsr bas...  20010515\n",
       "2  fomc decid today rais target fedfundsr bas poi...  20041214\n",
       "3  fomc decid today leav target fedfundsr unchang...  19991005\n",
       "4  fomc meet today decid maintain ex stant monet ...  20001219"
      ]
     },
     "execution_count": 12,
     "metadata": {},
     "output_type": "execute_result"
    }
   ],
   "source": [
    "docdf = pd.DataFrame(records)\n",
    "docdf.head()"
   ]
  },
  {
   "cell_type": "code",
   "execution_count": 13,
   "metadata": {},
   "outputs": [
    {
     "data": {
      "text/html": [
       "<div>\n",
       "<style scoped>\n",
       "    .dataframe tbody tr th:only-of-type {\n",
       "        vertical-align: middle;\n",
       "    }\n",
       "\n",
       "    .dataframe tbody tr th {\n",
       "        vertical-align: top;\n",
       "    }\n",
       "\n",
       "    .dataframe thead th {\n",
       "        text-align: right;\n",
       "    }\n",
       "</style>\n",
       "<table border=\"1\" class=\"dataframe\">\n",
       "  <thead>\n",
       "    <tr style=\"text-align: right;\">\n",
       "      <th></th>\n",
       "      <th>document</th>\n",
       "      <th>filedate</th>\n",
       "    </tr>\n",
       "  </thead>\n",
       "  <tbody>\n",
       "    <tr>\n",
       "      <th>0</th>\n",
       "      <td>fomc decid today rais target fedfundsr bas poi...</td>\n",
       "      <td>2005-12-13</td>\n",
       "    </tr>\n",
       "    <tr>\n",
       "      <th>1</th>\n",
       "      <td>fomc meet today decid low target fedfundsr bas...</td>\n",
       "      <td>2001-05-15</td>\n",
       "    </tr>\n",
       "    <tr>\n",
       "      <th>2</th>\n",
       "      <td>fomc decid today rais target fedfundsr bas poi...</td>\n",
       "      <td>2004-12-14</td>\n",
       "    </tr>\n",
       "    <tr>\n",
       "      <th>3</th>\n",
       "      <td>fomc decid today leav target fedfundsr unchang...</td>\n",
       "      <td>1999-10-05</td>\n",
       "    </tr>\n",
       "    <tr>\n",
       "      <th>4</th>\n",
       "      <td>fomc meet today decid maintain ex stant monet ...</td>\n",
       "      <td>2000-12-19</td>\n",
       "    </tr>\n",
       "  </tbody>\n",
       "</table>\n",
       "</div>"
      ],
      "text/plain": [
       "                                            document   filedate\n",
       "0  fomc decid today rais target fedfundsr bas poi... 2005-12-13\n",
       "1  fomc meet today decid low target fedfundsr bas... 2001-05-15\n",
       "2  fomc decid today rais target fedfundsr bas poi... 2004-12-14\n",
       "3  fomc decid today leav target fedfundsr unchang... 1999-10-05\n",
       "4  fomc meet today decid maintain ex stant monet ... 2000-12-19"
      ]
     },
     "execution_count": 13,
     "metadata": {},
     "output_type": "execute_result"
    }
   ],
   "source": [
    "# Modify filedate string to a timestamp\n",
    "docdf.filedate = pd.to_datetime(docdf.filedate, format='%Y%m%d')\n",
    "docdf.head()"
   ]
  },
  {
   "cell_type": "code",
   "execution_count": 14,
   "metadata": {},
   "outputs": [
    {
     "data": {
      "text/html": [
       "<div>\n",
       "<style scoped>\n",
       "    .dataframe tbody tr th:only-of-type {\n",
       "        vertical-align: middle;\n",
       "    }\n",
       "\n",
       "    .dataframe tbody tr th {\n",
       "        vertical-align: top;\n",
       "    }\n",
       "\n",
       "    .dataframe thead th {\n",
       "        text-align: right;\n",
       "    }\n",
       "</style>\n",
       "<table border=\"1\" class=\"dataframe\">\n",
       "  <thead>\n",
       "    <tr style=\"text-align: right;\">\n",
       "      <th></th>\n",
       "      <th>document</th>\n",
       "    </tr>\n",
       "    <tr>\n",
       "      <th>filedate</th>\n",
       "      <th></th>\n",
       "    </tr>\n",
       "  </thead>\n",
       "  <tbody>\n",
       "    <tr>\n",
       "      <th>2005-12-13</th>\n",
       "      <td>fomc decid today rais target fedfundsr bas poi...</td>\n",
       "    </tr>\n",
       "    <tr>\n",
       "      <th>2001-05-15</th>\n",
       "      <td>fomc meet today decid low target fedfundsr bas...</td>\n",
       "    </tr>\n",
       "    <tr>\n",
       "      <th>2004-12-14</th>\n",
       "      <td>fomc decid today rais target fedfundsr bas poi...</td>\n",
       "    </tr>\n",
       "    <tr>\n",
       "      <th>1999-10-05</th>\n",
       "      <td>fomc decid today leav target fedfundsr unchang...</td>\n",
       "    </tr>\n",
       "    <tr>\n",
       "      <th>2000-12-19</th>\n",
       "      <td>fomc meet today decid maintain ex stant monet ...</td>\n",
       "    </tr>\n",
       "  </tbody>\n",
       "</table>\n",
       "</div>"
      ],
      "text/plain": [
       "                                                     document\n",
       "filedate                                                     \n",
       "2005-12-13  fomc decid today rais target fedfundsr bas poi...\n",
       "2001-05-15  fomc meet today decid low target fedfundsr bas...\n",
       "2004-12-14  fomc decid today rais target fedfundsr bas poi...\n",
       "1999-10-05  fomc decid today leav target fedfundsr unchang...\n",
       "2000-12-19  fomc meet today decid maintain ex stant monet ..."
      ]
     },
     "execution_count": 14,
     "metadata": {},
     "output_type": "execute_result"
    }
   ],
   "source": [
    "# Set the index of docdf to the filedate column\n",
    "docdf = docdf.set_index('filedate')\n",
    "docdf.head()"
   ]
  },
  {
   "cell_type": "code",
   "execution_count": 15,
   "metadata": {},
   "outputs": [
    {
     "data": {
      "text/html": [
       "<div>\n",
       "<style scoped>\n",
       "    .dataframe tbody tr th:only-of-type {\n",
       "        vertical-align: middle;\n",
       "    }\n",
       "\n",
       "    .dataframe tbody tr th {\n",
       "        vertical-align: top;\n",
       "    }\n",
       "\n",
       "    .dataframe thead th {\n",
       "        text-align: right;\n",
       "    }\n",
       "</style>\n",
       "<table border=\"1\" class=\"dataframe\">\n",
       "  <thead>\n",
       "    <tr style=\"text-align: right;\">\n",
       "      <th></th>\n",
       "      <th>document</th>\n",
       "    </tr>\n",
       "    <tr>\n",
       "      <th>filedate</th>\n",
       "      <th></th>\n",
       "    </tr>\n",
       "  </thead>\n",
       "  <tbody>\n",
       "    <tr>\n",
       "      <th>1999-05-18</th>\n",
       "      <td>federalreserv releas follow stat today fomc me...</td>\n",
       "    </tr>\n",
       "    <tr>\n",
       "      <th>1999-06-30</th>\n",
       "      <td>fomc today vot rais target fedfundsr bas point...</td>\n",
       "    </tr>\n",
       "    <tr>\n",
       "      <th>1999-08-24</th>\n",
       "      <td>fomc today vot rais target fedfundsr bas point...</td>\n",
       "    </tr>\n",
       "    <tr>\n",
       "      <th>1999-10-05</th>\n",
       "      <td>fomc decid today leav target fedfundsr unchang...</td>\n",
       "    </tr>\n",
       "    <tr>\n",
       "      <th>1999-11-16</th>\n",
       "      <td>fomc today vot rais target fedfundsr bas point...</td>\n",
       "    </tr>\n",
       "    <tr>\n",
       "      <th>1999-12-21</th>\n",
       "      <td>fomc mad chang today target fedfundsr bas on a...</td>\n",
       "    </tr>\n",
       "    <tr>\n",
       "      <th>2000-02-02</th>\n",
       "      <td>fomc vot today rais target fedfundsr bas point...</td>\n",
       "    </tr>\n",
       "    <tr>\n",
       "      <th>2000-03-21</th>\n",
       "      <td>fomc vot today rais target fedfundsr bas point...</td>\n",
       "    </tr>\n",
       "    <tr>\n",
       "      <th>2000-05-16</th>\n",
       "      <td>fomc vot today rais target fedfundsr bas point...</td>\n",
       "    </tr>\n",
       "    <tr>\n",
       "      <th>2000-06-28</th>\n",
       "      <td>fomc meet today decid maintain ex stant monet ...</td>\n",
       "    </tr>\n",
       "  </tbody>\n",
       "</table>\n",
       "</div>"
      ],
      "text/plain": [
       "                                                     document\n",
       "filedate                                                     \n",
       "1999-05-18  federalreserv releas follow stat today fomc me...\n",
       "1999-06-30  fomc today vot rais target fedfundsr bas point...\n",
       "1999-08-24  fomc today vot rais target fedfundsr bas point...\n",
       "1999-10-05  fomc decid today leav target fedfundsr unchang...\n",
       "1999-11-16  fomc today vot rais target fedfundsr bas point...\n",
       "1999-12-21  fomc mad chang today target fedfundsr bas on a...\n",
       "2000-02-02  fomc vot today rais target fedfundsr bas point...\n",
       "2000-03-21  fomc vot today rais target fedfundsr bas point...\n",
       "2000-05-16  fomc vot today rais target fedfundsr bas point...\n",
       "2000-06-28  fomc meet today decid maintain ex stant monet ..."
      ]
     },
     "execution_count": 15,
     "metadata": {},
     "output_type": "execute_result"
    }
   ],
   "source": [
    "# Sort docdf by the index (which is now set to filedate)\n",
    "docdf = docdf.sort_index()\n",
    "docdf.head(10)"
   ]
  },
  {
   "cell_type": "code",
   "execution_count": 16,
   "metadata": {},
   "outputs": [
    {
     "data": {
      "text/html": [
       "<div>\n",
       "<style scoped>\n",
       "    .dataframe tbody tr th:only-of-type {\n",
       "        vertical-align: middle;\n",
       "    }\n",
       "\n",
       "    .dataframe tbody tr th {\n",
       "        vertical-align: top;\n",
       "    }\n",
       "\n",
       "    .dataframe thead th {\n",
       "        text-align: right;\n",
       "    }\n",
       "</style>\n",
       "<table border=\"1\" class=\"dataframe\">\n",
       "  <thead>\n",
       "    <tr style=\"text-align: right;\">\n",
       "      <th></th>\n",
       "      <th>document</th>\n",
       "      <th>DFEDTAR_20081215</th>\n",
       "      <th>Diff</th>\n",
       "      <th>Changed</th>\n",
       "    </tr>\n",
       "    <tr>\n",
       "      <th>filedate</th>\n",
       "      <th></th>\n",
       "      <th></th>\n",
       "      <th></th>\n",
       "      <th></th>\n",
       "    </tr>\n",
       "  </thead>\n",
       "  <tbody>\n",
       "    <tr>\n",
       "      <th>1999-05-18</th>\n",
       "      <td>federalreserv releas follow stat today fomc me...</td>\n",
       "      <td>4.75</td>\n",
       "      <td>0.00</td>\n",
       "      <td>0</td>\n",
       "    </tr>\n",
       "    <tr>\n",
       "      <th>1999-06-30</th>\n",
       "      <td>fomc today vot rais target fedfundsr bas point...</td>\n",
       "      <td>5.00</td>\n",
       "      <td>0.25</td>\n",
       "      <td>1</td>\n",
       "    </tr>\n",
       "    <tr>\n",
       "      <th>1999-08-24</th>\n",
       "      <td>fomc today vot rais target fedfundsr bas point...</td>\n",
       "      <td>5.25</td>\n",
       "      <td>0.25</td>\n",
       "      <td>1</td>\n",
       "    </tr>\n",
       "    <tr>\n",
       "      <th>1999-10-05</th>\n",
       "      <td>fomc decid today leav target fedfundsr unchang...</td>\n",
       "      <td>5.25</td>\n",
       "      <td>0.00</td>\n",
       "      <td>0</td>\n",
       "    </tr>\n",
       "    <tr>\n",
       "      <th>1999-11-16</th>\n",
       "      <td>fomc today vot rais target fedfundsr bas point...</td>\n",
       "      <td>5.50</td>\n",
       "      <td>0.25</td>\n",
       "      <td>1</td>\n",
       "    </tr>\n",
       "    <tr>\n",
       "      <th>1999-12-21</th>\n",
       "      <td>fomc mad chang today target fedfundsr bas on a...</td>\n",
       "      <td>5.50</td>\n",
       "      <td>0.00</td>\n",
       "      <td>0</td>\n",
       "    </tr>\n",
       "    <tr>\n",
       "      <th>2000-02-02</th>\n",
       "      <td>fomc vot today rais target fedfundsr bas point...</td>\n",
       "      <td>5.75</td>\n",
       "      <td>0.25</td>\n",
       "      <td>1</td>\n",
       "    </tr>\n",
       "    <tr>\n",
       "      <th>2000-03-21</th>\n",
       "      <td>fomc vot today rais target fedfundsr bas point...</td>\n",
       "      <td>6.00</td>\n",
       "      <td>0.25</td>\n",
       "      <td>1</td>\n",
       "    </tr>\n",
       "    <tr>\n",
       "      <th>2000-05-16</th>\n",
       "      <td>fomc vot today rais target fedfundsr bas point...</td>\n",
       "      <td>6.50</td>\n",
       "      <td>0.50</td>\n",
       "      <td>1</td>\n",
       "    </tr>\n",
       "    <tr>\n",
       "      <th>2000-06-28</th>\n",
       "      <td>fomc meet today decid maintain ex stant monet ...</td>\n",
       "      <td>6.50</td>\n",
       "      <td>0.00</td>\n",
       "      <td>0</td>\n",
       "    </tr>\n",
       "    <tr>\n",
       "      <th>2000-08-22</th>\n",
       "      <td>fomc meet today decid maintain ex stant monet ...</td>\n",
       "      <td>6.50</td>\n",
       "      <td>0.00</td>\n",
       "      <td>0</td>\n",
       "    </tr>\n",
       "    <tr>\n",
       "      <th>2000-10-03</th>\n",
       "      <td>fomc meet today decid maintain ex stant monet ...</td>\n",
       "      <td>6.50</td>\n",
       "      <td>0.00</td>\n",
       "      <td>0</td>\n",
       "    </tr>\n",
       "    <tr>\n",
       "      <th>2000-11-15</th>\n",
       "      <td>fomc meet today decid maintain ex stant monet ...</td>\n",
       "      <td>6.50</td>\n",
       "      <td>0.00</td>\n",
       "      <td>0</td>\n",
       "    </tr>\n",
       "    <tr>\n",
       "      <th>2000-12-19</th>\n",
       "      <td>fomc meet today decid maintain ex stant monet ...</td>\n",
       "      <td>6.50</td>\n",
       "      <td>0.00</td>\n",
       "      <td>0</td>\n",
       "    </tr>\n",
       "    <tr>\n",
       "      <th>2001-01-31</th>\n",
       "      <td>fomc meet today decid low target fedfundsr bas...</td>\n",
       "      <td>5.50</td>\n",
       "      <td>-0.50</td>\n",
       "      <td>1</td>\n",
       "    </tr>\n",
       "    <tr>\n",
       "      <th>2001-03-20</th>\n",
       "      <td>fomc meet today decid low target fedfundsr bas...</td>\n",
       "      <td>5.00</td>\n",
       "      <td>-0.50</td>\n",
       "      <td>1</td>\n",
       "    </tr>\n",
       "    <tr>\n",
       "      <th>2001-05-15</th>\n",
       "      <td>fomc meet today decid low target fedfundsr bas...</td>\n",
       "      <td>4.00</td>\n",
       "      <td>-0.50</td>\n",
       "      <td>1</td>\n",
       "    </tr>\n",
       "    <tr>\n",
       "      <th>2001-06-27</th>\n",
       "      <td>fomc meet today decid low target fedfundsr bas...</td>\n",
       "      <td>3.75</td>\n",
       "      <td>-0.25</td>\n",
       "      <td>1</td>\n",
       "    </tr>\n",
       "    <tr>\n",
       "      <th>2001-08-21</th>\n",
       "      <td>fomc meet today decid low target fedfundsr bas...</td>\n",
       "      <td>3.50</td>\n",
       "      <td>-0.25</td>\n",
       "      <td>1</td>\n",
       "    </tr>\n",
       "    <tr>\n",
       "      <th>2001-10-02</th>\n",
       "      <td>fomc decid today low target fedfundsr bas poin...</td>\n",
       "      <td>2.50</td>\n",
       "      <td>-0.50</td>\n",
       "      <td>1</td>\n",
       "    </tr>\n",
       "    <tr>\n",
       "      <th>2001-11-06</th>\n",
       "      <td>fomc decid today low target fedfundsr bas poin...</td>\n",
       "      <td>6.00</td>\n",
       "      <td>0.00</td>\n",
       "      <td>0</td>\n",
       "    </tr>\n",
       "    <tr>\n",
       "      <th>2001-12-11</th>\n",
       "      <td>fomc decid today low target fedfundsr bas poin...</td>\n",
       "      <td>1.75</td>\n",
       "      <td>-0.25</td>\n",
       "      <td>1</td>\n",
       "    </tr>\n",
       "    <tr>\n",
       "      <th>2002-01-30</th>\n",
       "      <td>fomc decid today keep target fedfundsr unchang...</td>\n",
       "      <td>1.75</td>\n",
       "      <td>0.00</td>\n",
       "      <td>0</td>\n",
       "    </tr>\n",
       "    <tr>\n",
       "      <th>2002-03-19</th>\n",
       "      <td>fomc decid today keep target fedfundsr unchang...</td>\n",
       "      <td>1.75</td>\n",
       "      <td>0.00</td>\n",
       "      <td>0</td>\n",
       "    </tr>\n",
       "    <tr>\n",
       "      <th>2002-05-07</th>\n",
       "      <td>fomc decid today keep target fedfundsr unchang...</td>\n",
       "      <td>1.75</td>\n",
       "      <td>0.00</td>\n",
       "      <td>0</td>\n",
       "    </tr>\n",
       "    <tr>\n",
       "      <th>2002-06-26</th>\n",
       "      <td>fomc decid today keep target fedfundsr unchang...</td>\n",
       "      <td>1.75</td>\n",
       "      <td>0.00</td>\n",
       "      <td>0</td>\n",
       "    </tr>\n",
       "    <tr>\n",
       "      <th>2002-08-13</th>\n",
       "      <td>fomc decid today keep target fedfundsr unchang...</td>\n",
       "      <td>1.75</td>\n",
       "      <td>0.00</td>\n",
       "      <td>0</td>\n",
       "    </tr>\n",
       "    <tr>\n",
       "      <th>2002-09-24</th>\n",
       "      <td>fomc decid today keep target fedfundsr unchang...</td>\n",
       "      <td>1.75</td>\n",
       "      <td>0.00</td>\n",
       "      <td>0</td>\n",
       "    </tr>\n",
       "    <tr>\n",
       "      <th>2002-11-06</th>\n",
       "      <td>fomc decid today low target fedfundsr bas poin...</td>\n",
       "      <td>1.75</td>\n",
       "      <td>0.00</td>\n",
       "      <td>0</td>\n",
       "    </tr>\n",
       "    <tr>\n",
       "      <th>2002-12-10</th>\n",
       "      <td>fomc decid today keep target fedfundsr unchang...</td>\n",
       "      <td>1.25</td>\n",
       "      <td>0.00</td>\n",
       "      <td>0</td>\n",
       "    </tr>\n",
       "    <tr>\n",
       "      <th>2003-01-29</th>\n",
       "      <td>fomc decid today keep target fedfundsr unchang...</td>\n",
       "      <td>1.25</td>\n",
       "      <td>0.00</td>\n",
       "      <td>0</td>\n",
       "    </tr>\n",
       "    <tr>\n",
       "      <th>2003-03-18</th>\n",
       "      <td>fomc decid today keep target fedfundsr unchang...</td>\n",
       "      <td>1.25</td>\n",
       "      <td>0.00</td>\n",
       "      <td>0</td>\n",
       "    </tr>\n",
       "    <tr>\n",
       "      <th>2003-05-06</th>\n",
       "      <td>fomc decid keep target fedfundsr unchang perc ...</td>\n",
       "      <td>1.25</td>\n",
       "      <td>0.00</td>\n",
       "      <td>0</td>\n",
       "    </tr>\n",
       "    <tr>\n",
       "      <th>2003-06-25</th>\n",
       "      <td>fomc decid today low target fedfundsr bas poin...</td>\n",
       "      <td>1.00</td>\n",
       "      <td>-0.25</td>\n",
       "      <td>1</td>\n",
       "    </tr>\n",
       "    <tr>\n",
       "      <th>2003-08-12</th>\n",
       "      <td>fomc decid today keep target fedfundsr perc co...</td>\n",
       "      <td>1.00</td>\n",
       "      <td>0.00</td>\n",
       "      <td>0</td>\n",
       "    </tr>\n",
       "    <tr>\n",
       "      <th>2003-09-16</th>\n",
       "      <td>fomc decid today keep target fedfundsr perc co...</td>\n",
       "      <td>1.00</td>\n",
       "      <td>0.00</td>\n",
       "      <td>0</td>\n",
       "    </tr>\n",
       "    <tr>\n",
       "      <th>2003-10-28</th>\n",
       "      <td>fomc decid today keep target fedfundsr perc co...</td>\n",
       "      <td>1.00</td>\n",
       "      <td>0.00</td>\n",
       "      <td>0</td>\n",
       "    </tr>\n",
       "    <tr>\n",
       "      <th>2003-12-09</th>\n",
       "      <td>fomc decid today keep target fedfundsr perc co...</td>\n",
       "      <td>1.25</td>\n",
       "      <td>0.00</td>\n",
       "      <td>0</td>\n",
       "    </tr>\n",
       "    <tr>\n",
       "      <th>2004-01-28</th>\n",
       "      <td>fomc decid today keep target fedfundsr perc co...</td>\n",
       "      <td>1.00</td>\n",
       "      <td>0.00</td>\n",
       "      <td>0</td>\n",
       "    </tr>\n",
       "    <tr>\n",
       "      <th>2004-03-16</th>\n",
       "      <td>fomc decid today keep target fedfundsr perc co...</td>\n",
       "      <td>1.00</td>\n",
       "      <td>0.00</td>\n",
       "      <td>0</td>\n",
       "    </tr>\n",
       "    <tr>\n",
       "      <th>2004-05-04</th>\n",
       "      <td>fomc decid today keep target fedfundsr perc co...</td>\n",
       "      <td>1.00</td>\n",
       "      <td>0.00</td>\n",
       "      <td>0</td>\n",
       "    </tr>\n",
       "    <tr>\n",
       "      <th>2004-06-30</th>\n",
       "      <td>fomc decid today rais target fedfundsr bas poi...</td>\n",
       "      <td>1.25</td>\n",
       "      <td>0.25</td>\n",
       "      <td>1</td>\n",
       "    </tr>\n",
       "    <tr>\n",
       "      <th>2004-08-10</th>\n",
       "      <td>fomc decid today rais target fedfundsr bas poi...</td>\n",
       "      <td>1.50</td>\n",
       "      <td>0.25</td>\n",
       "      <td>1</td>\n",
       "    </tr>\n",
       "    <tr>\n",
       "      <th>2004-09-21</th>\n",
       "      <td>fomc decid today rais target fedfundsr bas poi...</td>\n",
       "      <td>1.75</td>\n",
       "      <td>0.25</td>\n",
       "      <td>1</td>\n",
       "    </tr>\n",
       "    <tr>\n",
       "      <th>2004-11-10</th>\n",
       "      <td>fomc decid today rais target fedfundsr bas poi...</td>\n",
       "      <td>2.00</td>\n",
       "      <td>0.25</td>\n",
       "      <td>1</td>\n",
       "    </tr>\n",
       "    <tr>\n",
       "      <th>2004-12-14</th>\n",
       "      <td>fomc decid today rais target fedfundsr bas poi...</td>\n",
       "      <td>2.25</td>\n",
       "      <td>0.25</td>\n",
       "      <td>1</td>\n",
       "    </tr>\n",
       "    <tr>\n",
       "      <th>2005-02-02</th>\n",
       "      <td>fomc decid today rais target fedfundsr bas poi...</td>\n",
       "      <td>2.50</td>\n",
       "      <td>0.25</td>\n",
       "      <td>1</td>\n",
       "    </tr>\n",
       "    <tr>\n",
       "      <th>2005-03-22</th>\n",
       "      <td>fomc decid today rais target fedfundsr bas poi...</td>\n",
       "      <td>2.75</td>\n",
       "      <td>0.25</td>\n",
       "      <td>1</td>\n",
       "    </tr>\n",
       "    <tr>\n",
       "      <th>2005-05-03</th>\n",
       "      <td>fomc decid today rais target fedfundsr bas poi...</td>\n",
       "      <td>3.00</td>\n",
       "      <td>0.25</td>\n",
       "      <td>1</td>\n",
       "    </tr>\n",
       "    <tr>\n",
       "      <th>2005-06-30</th>\n",
       "      <td>fomc decid today rais target fedfundsr bas poi...</td>\n",
       "      <td>3.25</td>\n",
       "      <td>0.25</td>\n",
       "      <td>1</td>\n",
       "    </tr>\n",
       "    <tr>\n",
       "      <th>2005-08-09</th>\n",
       "      <td>fomc decid today rais target fedfundsr bas poi...</td>\n",
       "      <td>3.50</td>\n",
       "      <td>0.25</td>\n",
       "      <td>1</td>\n",
       "    </tr>\n",
       "    <tr>\n",
       "      <th>2005-09-20</th>\n",
       "      <td>fomc decid today rais target fedfundsr bas poi...</td>\n",
       "      <td>3.75</td>\n",
       "      <td>0.25</td>\n",
       "      <td>1</td>\n",
       "    </tr>\n",
       "    <tr>\n",
       "      <th>2005-11-01</th>\n",
       "      <td>fomc decid today rais target fedfundsr bas poi...</td>\n",
       "      <td>4.00</td>\n",
       "      <td>0.25</td>\n",
       "      <td>1</td>\n",
       "    </tr>\n",
       "    <tr>\n",
       "      <th>2005-12-13</th>\n",
       "      <td>fomc decid today rais target fedfundsr bas poi...</td>\n",
       "      <td>4.25</td>\n",
       "      <td>0.25</td>\n",
       "      <td>1</td>\n",
       "    </tr>\n",
       "  </tbody>\n",
       "</table>\n",
       "</div>"
      ],
      "text/plain": [
       "                                                     document  \\\n",
       "filedate                                                        \n",
       "1999-05-18  federalreserv releas follow stat today fomc me...   \n",
       "1999-06-30  fomc today vot rais target fedfundsr bas point...   \n",
       "1999-08-24  fomc today vot rais target fedfundsr bas point...   \n",
       "1999-10-05  fomc decid today leav target fedfundsr unchang...   \n",
       "1999-11-16  fomc today vot rais target fedfundsr bas point...   \n",
       "1999-12-21  fomc mad chang today target fedfundsr bas on a...   \n",
       "2000-02-02  fomc vot today rais target fedfundsr bas point...   \n",
       "2000-03-21  fomc vot today rais target fedfundsr bas point...   \n",
       "2000-05-16  fomc vot today rais target fedfundsr bas point...   \n",
       "2000-06-28  fomc meet today decid maintain ex stant monet ...   \n",
       "2000-08-22  fomc meet today decid maintain ex stant monet ...   \n",
       "2000-10-03  fomc meet today decid maintain ex stant monet ...   \n",
       "2000-11-15  fomc meet today decid maintain ex stant monet ...   \n",
       "2000-12-19  fomc meet today decid maintain ex stant monet ...   \n",
       "2001-01-31  fomc meet today decid low target fedfundsr bas...   \n",
       "2001-03-20  fomc meet today decid low target fedfundsr bas...   \n",
       "2001-05-15  fomc meet today decid low target fedfundsr bas...   \n",
       "2001-06-27  fomc meet today decid low target fedfundsr bas...   \n",
       "2001-08-21  fomc meet today decid low target fedfundsr bas...   \n",
       "2001-10-02  fomc decid today low target fedfundsr bas poin...   \n",
       "2001-11-06  fomc decid today low target fedfundsr bas poin...   \n",
       "2001-12-11  fomc decid today low target fedfundsr bas poin...   \n",
       "2002-01-30  fomc decid today keep target fedfundsr unchang...   \n",
       "2002-03-19  fomc decid today keep target fedfundsr unchang...   \n",
       "2002-05-07  fomc decid today keep target fedfundsr unchang...   \n",
       "2002-06-26  fomc decid today keep target fedfundsr unchang...   \n",
       "2002-08-13  fomc decid today keep target fedfundsr unchang...   \n",
       "2002-09-24  fomc decid today keep target fedfundsr unchang...   \n",
       "2002-11-06  fomc decid today low target fedfundsr bas poin...   \n",
       "2002-12-10  fomc decid today keep target fedfundsr unchang...   \n",
       "2003-01-29  fomc decid today keep target fedfundsr unchang...   \n",
       "2003-03-18  fomc decid today keep target fedfundsr unchang...   \n",
       "2003-05-06  fomc decid keep target fedfundsr unchang perc ...   \n",
       "2003-06-25  fomc decid today low target fedfundsr bas poin...   \n",
       "2003-08-12  fomc decid today keep target fedfundsr perc co...   \n",
       "2003-09-16  fomc decid today keep target fedfundsr perc co...   \n",
       "2003-10-28  fomc decid today keep target fedfundsr perc co...   \n",
       "2003-12-09  fomc decid today keep target fedfundsr perc co...   \n",
       "2004-01-28  fomc decid today keep target fedfundsr perc co...   \n",
       "2004-03-16  fomc decid today keep target fedfundsr perc co...   \n",
       "2004-05-04  fomc decid today keep target fedfundsr perc co...   \n",
       "2004-06-30  fomc decid today rais target fedfundsr bas poi...   \n",
       "2004-08-10  fomc decid today rais target fedfundsr bas poi...   \n",
       "2004-09-21  fomc decid today rais target fedfundsr bas poi...   \n",
       "2004-11-10  fomc decid today rais target fedfundsr bas poi...   \n",
       "2004-12-14  fomc decid today rais target fedfundsr bas poi...   \n",
       "2005-02-02  fomc decid today rais target fedfundsr bas poi...   \n",
       "2005-03-22  fomc decid today rais target fedfundsr bas poi...   \n",
       "2005-05-03  fomc decid today rais target fedfundsr bas poi...   \n",
       "2005-06-30  fomc decid today rais target fedfundsr bas poi...   \n",
       "2005-08-09  fomc decid today rais target fedfundsr bas poi...   \n",
       "2005-09-20  fomc decid today rais target fedfundsr bas poi...   \n",
       "2005-11-01  fomc decid today rais target fedfundsr bas poi...   \n",
       "2005-12-13  fomc decid today rais target fedfundsr bas poi...   \n",
       "\n",
       "            DFEDTAR_20081215  Diff  Changed  \n",
       "filedate                                     \n",
       "1999-05-18              4.75  0.00        0  \n",
       "1999-06-30              5.00  0.25        1  \n",
       "1999-08-24              5.25  0.25        1  \n",
       "1999-10-05              5.25  0.00        0  \n",
       "1999-11-16              5.50  0.25        1  \n",
       "1999-12-21              5.50  0.00        0  \n",
       "2000-02-02              5.75  0.25        1  \n",
       "2000-03-21              6.00  0.25        1  \n",
       "2000-05-16              6.50  0.50        1  \n",
       "2000-06-28              6.50  0.00        0  \n",
       "2000-08-22              6.50  0.00        0  \n",
       "2000-10-03              6.50  0.00        0  \n",
       "2000-11-15              6.50  0.00        0  \n",
       "2000-12-19              6.50  0.00        0  \n",
       "2001-01-31              5.50 -0.50        1  \n",
       "2001-03-20              5.00 -0.50        1  \n",
       "2001-05-15              4.00 -0.50        1  \n",
       "2001-06-27              3.75 -0.25        1  \n",
       "2001-08-21              3.50 -0.25        1  \n",
       "2001-10-02              2.50 -0.50        1  \n",
       "2001-11-06              6.00  0.00        0  \n",
       "2001-12-11              1.75 -0.25        1  \n",
       "2002-01-30              1.75  0.00        0  \n",
       "2002-03-19              1.75  0.00        0  \n",
       "2002-05-07              1.75  0.00        0  \n",
       "2002-06-26              1.75  0.00        0  \n",
       "2002-08-13              1.75  0.00        0  \n",
       "2002-09-24              1.75  0.00        0  \n",
       "2002-11-06              1.75  0.00        0  \n",
       "2002-12-10              1.25  0.00        0  \n",
       "2003-01-29              1.25  0.00        0  \n",
       "2003-03-18              1.25  0.00        0  \n",
       "2003-05-06              1.25  0.00        0  \n",
       "2003-06-25              1.00 -0.25        1  \n",
       "2003-08-12              1.00  0.00        0  \n",
       "2003-09-16              1.00  0.00        0  \n",
       "2003-10-28              1.00  0.00        0  \n",
       "2003-12-09              1.25  0.00        0  \n",
       "2004-01-28              1.00  0.00        0  \n",
       "2004-03-16              1.00  0.00        0  \n",
       "2004-05-04              1.00  0.00        0  \n",
       "2004-06-30              1.25  0.25        1  \n",
       "2004-08-10              1.50  0.25        1  \n",
       "2004-09-21              1.75  0.25        1  \n",
       "2004-11-10              2.00  0.25        1  \n",
       "2004-12-14              2.25  0.25        1  \n",
       "2005-02-02              2.50  0.25        1  \n",
       "2005-03-22              2.75  0.25        1  \n",
       "2005-05-03              3.00  0.25        1  \n",
       "2005-06-30              3.25  0.25        1  \n",
       "2005-08-09              3.50  0.25        1  \n",
       "2005-09-20              3.75  0.25        1  \n",
       "2005-11-01              4.00  0.25        1  \n",
       "2005-12-13              4.25  0.25        1  "
      ]
     },
     "execution_count": 16,
     "metadata": {},
     "output_type": "execute_result"
    }
   ],
   "source": [
    "# Indicate if a rate changed within x days (try 7?) after a document is published, \n",
    "# by merging the rate and content df's\n",
    "# then display what it gets us\n",
    "tol = pd.Timedelta('7 day')\n",
    "change_df = pd.merge_asof(left=docdf,right=df,right_index=True,left_index=True,direction='nearest',tolerance=tol)\n",
    "change_df.head(100)"
   ]
  },
  {
   "cell_type": "code",
   "execution_count": 17,
   "metadata": {},
   "outputs": [
    {
     "data": {
      "image/png": "[encoded data removed]",
      "text/plain": [
       "<Figure size 432x288 with 1 Axes>"
      ]
     },
     "metadata": {
      "needs_background": "light"
     },
     "output_type": "display_data"
    },
    {
     "data": {
      "image/png": "[encoded data removed]",
      "text/plain": [
       "<Figure size 432x288 with 1 Axes>"
      ]
     },
     "metadata": {
      "needs_background": "light"
     },
     "output_type": "display_data"
    },
    {
     "name": "stdout",
     "output_type": "stream",
     "text": [
      "There are 28760 words in the combination of all documents.\n"
     ]
    },
    {
     "data": {
      "image/png": "[encoded data removed]",
      "text/plain": [
       "<Figure size 432x288 with 1 Axes>"
      ]
     },
     "metadata": {
      "needs_background": "light"
     },
     "output_type": "display_data"
    }
   ],
   "source": [
    "# EDA using WordCloud\n",
    "# imports \n",
    "from os import path\n",
    "from PIL import Image\n",
    "from wordcloud import WordCloud, STOPWORDS, ImageColorGenerator\n",
    "\n",
    "import matplotlib.pyplot as plt\n",
    "%matplotlib inline                                                                                      \n",
    "\n",
    "# Start with one document\n",
    "text = docdf.document[0]\n",
    "\n",
    "# Create and generate a word cloud image:\n",
    "wordcloud = WordCloud().generate(text)\n",
    "\n",
    "# Display the generated image:\n",
    "plt.imshow(wordcloud, interpolation='bilinear')\n",
    "plt.axis(\"off\")\n",
    "plt.show()\n",
    "\n",
    "# Save the image in the img folder:\n",
    "# Uncomment this to save file locally when it runs\n",
    "#wordcloud.to_file(\"images/first_doc_allwords_cloud.png\")\n",
    "\n",
    "# Make it look better\n",
    "# lower max_font_size, change the maximum number of word and lighten the background:\n",
    "wordcloud = WordCloud(max_font_size=50, max_words=100, background_color=\"white\").generate(text)\n",
    "plt.figure()\n",
    "plt.imshow(wordcloud, interpolation=\"bilinear\")\n",
    "plt.axis(\"off\")\n",
    "plt.show()\n",
    "\n",
    "# Save the image in the img folder:\n",
    "# Uncomment this to save file locally when it runs\n",
    "#wordcloud.to_file(\"images/first_doc_cloud_100words.png\")\n",
    "\n",
    "# Combine all documents into a single word cloud\n",
    "text = \" \".join(review for review in docdf.document) # Need to update words here\n",
    "print (\"There are {} words in the combination of all documents.\".format(len(text)))\n",
    "\n",
    "# Create stopword list:\n",
    "# Skip this for now need to figure out which stopwords if needed\n",
    "# stopwords = set(STOPWORDS)\n",
    "# stopwords.update([\"stopone\", \"stoptwo\", \"stopthree\", \"stopfour\", \"stopfive\"])\n",
    "\n",
    "# Generate a word cloud image\n",
    "wordcloud = WordCloud(background_color=\"white\").generate(text)\n",
    "# When stopwords added change to this: wordcloud = WordCloud(stopwords=stopwords, background_color=\"white\").generate(text)\n",
    "\n",
    "# Display the generated image:\n",
    "# the matplotlib way:\n",
    "plt.imshow(wordcloud, interpolation='bilinear')\n",
    "plt.axis(\"off\")\n",
    "plt.show()\n",
    "\n",
    "# Save the image in the img folder:\n",
    "# Uncomment this to save file locally when it runs\n",
    "#wordcloud.to_file(\"images/all_doc_cloud.png\")"
   ]
  },
  {
   "cell_type": "markdown",
   "metadata": {},
   "source": [
    "# Let's explore the data more: EDA and some statistics"
   ]
  },
  {
   "cell_type": "code",
   "execution_count": 18,
   "metadata": {},
   "outputs": [
    {
     "data": {
      "text/plain": [
       "DFEDTAR_20081215    5.346660\n",
       "Diff               -0.000822\n",
       "Changed             0.017002\n",
       "dtype: float64"
      ]
     },
     "execution_count": 18,
     "metadata": {},
     "output_type": "execute_result"
    }
   ],
   "source": [
    "ffr_df.mean()"
   ]
  },
  {
   "cell_type": "code",
   "execution_count": 19,
   "metadata": {},
   "outputs": [
    {
     "data": {
      "text/plain": [
       "DFEDTAR_20081215    5.25\n",
       "Diff                0.00\n",
       "Changed             0.00\n",
       "dtype: float64"
      ]
     },
     "execution_count": 19,
     "metadata": {},
     "output_type": "execute_result"
    }
   ],
   "source": [
    "ffr_df.median()"
   ]
  },
  {
   "cell_type": "code",
   "execution_count": 20,
   "metadata": {},
   "outputs": [
    {
     "data": {
      "text/plain": [
       "DATE                1982-09-27 00:00:00\n",
       "DFEDTAR_20081215                 0.0125\n",
       "Diff                            -0.9875\n",
       "Changed                               0\n",
       "dtype: object"
      ]
     },
     "execution_count": 20,
     "metadata": {},
     "output_type": "execute_result"
    }
   ],
   "source": [
    "ffr_df.min()"
   ]
  },
  {
   "cell_type": "code",
   "execution_count": 21,
   "metadata": {},
   "outputs": [
    {
     "data": {
      "text/plain": [
       "DATE                2018-12-20 00:00:00\n",
       "DFEDTAR_20081215                   11.5\n",
       "Diff                              1.125\n",
       "Changed                               1\n",
       "dtype: object"
      ]
     },
     "execution_count": 21,
     "metadata": {},
     "output_type": "execute_result"
    }
   ],
   "source": [
    "ffr_df.max()"
   ]
  },
  {
   "cell_type": "code",
   "execution_count": 40,
   "metadata": {},
   "outputs": [
    {
     "data": {
      "image/png": "[encoded data removed]",
      "text/plain": [
       "<Figure size 432x288 with 1 Axes>"
      ]
     },
     "metadata": {},
     "output_type": "display_data"
    }
   ],
   "source": [
    "# TO DO: Nice to have lines noting the mean etc. stats we did above\n",
    "# TO DO: Nice to have make the y axis something more intuitive\n",
    "\n",
    "# Plot a histogram of the rates\n",
    "plt.hist(df['DFEDTAR_20081215'], edgecolor = 'white', bins=25)\n",
    "plt.title(\"Fed Funds Target Rates Over Time\")\n",
    "plt.xlabel('Target Fed Funds Rates')\n",
    "# Uncomment to save the image in the img folder\n",
    "plt.savefig(\"images/rates_histo_over_time.png\")"
   ]
  },
  {
   "cell_type": "code",
   "execution_count": 61,
   "metadata": {},
   "outputs": [
    {
     "data": {
      "text/plain": [
       "Text(0, 0.5, 'Rate (In Percent)')"
      ]
     },
     "execution_count": 61,
     "metadata": {},
     "output_type": "execute_result"
    },
    {
     "data": {
      "image/png": "[encoded data removed]",
      "text/plain": [
       "<Figure size 432x288 with 1 Axes>"
      ]
     },
     "metadata": {},
     "output_type": "display_data"
    }
   ],
   "source": [
    "# Plot a plot of the rates\n",
    "# TO DO: make the x axis label eaiser to read\n",
    "plt.plot(df)\n",
    "plt.title(\"Fed Funds Target Rates Over Time\")\n",
    "plt.xlabel(\"Year\")\n",
    "plt.ylabel(\"Rate (In Percent)\")\n",
    "# Uncomment to save the image in the img folder\n",
    "#plt.savefig(\"images/rates_plot_over_time.png\")"
   ]
  },
  {
   "cell_type": "code",
   "execution_count": 24,
   "metadata": {
    "collapsed": true
   },
   "outputs": [],
   "source": [
    "# TO DO: FIXTHISLATER could be a useful feature to compare number of words in docs to see if length\n",
    "# is a predictor of rate change i.e. they talk a lot to justify a change, or talk little if minds made up. \n",
    "# Count words in each row of documents in the content df and save to a new column\n",
    "# dataset = pd.DataFrame([['change_df']], columns=['document'] )\n",
    "\n",
    "# from collections import Counter\n",
    "# dataset['words_in_doc'] = dataset.document.apply(lambda x: Counter(x.split(' ')))\n",
    "# dataset\n"
   ]
  },
  {
   "cell_type": "code",
   "execution_count": 25,
   "metadata": {},
   "outputs": [
    {
     "name": "stdout",
     "output_type": "stream",
     "text": [
      "27\n"
     ]
    }
   ],
   "source": [
    "# How many times did rates change during this period?\n",
    "Total = change_df['Changed'].sum()\n",
    "print(Total)"
   ]
  },
  {
   "cell_type": "code",
   "execution_count": 62,
   "metadata": {},
   "outputs": [
    {
     "data": {
      "text/plain": [
       "Text(0, 0.5, 'Count of Change Occurances')"
      ]
     },
     "execution_count": 62,
     "metadata": {},
     "output_type": "execute_result"
    },
    {
     "data": {
      "image/png": "[encoded data removed]",
      "text/plain": [
       "<Figure size 432x288 with 1 Axes>"
      ]
     },
     "metadata": {},
     "output_type": "display_data"
    }
   ],
   "source": [
    "# Visual of how often rates changed within 7 days of doc being released, \n",
    "# versus did not change\n",
    "sns.countplot(change_df['Changed']);\n",
    "plt.title(\"Comparison of Times Fed Funds Target Changed or Not Within 7 Days of Doc Release\")\n",
    "plt.xlabel(\"Change: 0 is No Change, 1 is Changed\")\n",
    "plt.ylabel(\"Count of Change Occurances\")\n",
    "# Uncomment to save the image in the img folder\n",
    "#plt.savefig(\"images/rates_changeornot_within7.png\")"
   ]
  },
  {
   "cell_type": "code",
   "execution_count": 47,
   "metadata": {},
   "outputs": [
    {
     "name": "stdout",
     "output_type": "stream",
     "text": [
      "(54, 20)\n",
      "<class 'pandas.core.frame.DataFrame'>\n",
      "RangeIndex: 54 entries, 0 to 53\n",
      "Data columns (total 20 columns):\n",
      "accommod     54 non-null int64\n",
      "act          54 non-null int64\n",
      "believ       54 non-null int64\n",
      "commit       54 non-null int64\n",
      "continu      54 non-null int64\n",
      "decid        54 non-null int64\n",
      "econom       54 non-null int64\n",
      "fedfundsr    54 non-null int64\n",
      "fomc         54 non-null int64\n",
      "grow         54 non-null int64\n",
      "infl         54 non-null int64\n",
      "long         54 non-null int64\n",
      "perc         54 non-null int64\n",
      "policy       54 non-null int64\n",
      "pricest      54 non-null int64\n",
      "produc       54 non-null int64\n",
      "remain       54 non-null int64\n",
      "risk         54 non-null int64\n",
      "target       54 non-null int64\n",
      "today        54 non-null int64\n",
      "dtypes: int64(20)\n",
      "memory usage: 8.5 KB\n"
     ]
    }
   ],
   "source": [
    "# Determine the top 20 most common words and display what they are; this is from the merged df\n",
    "from sklearn.feature_extraction.text import CountVectorizer\n",
    "count_df = pd.DataFrame(change_df)\n",
    "cv = CountVectorizer(max_features=20)\n",
    "cv.fit(change_df['document'])\n",
    "results = cv.transform(change_df['document'])\n",
    "print(results.shape)\n",
    "features = cv.get_feature_names()\n",
    "df_res = pd.DataFrame(results.toarray(), columns=features)\n",
    "df_res.info()"
   ]
  },
  {
   "cell_type": "markdown",
   "metadata": {},
   "source": [
    "## Models"
   ]
  },
  {
   "cell_type": "code",
   "execution_count": 49,
   "metadata": {
    "collapsed": true
   },
   "outputs": [],
   "source": [
    "# Imports for the models section\n",
    "# TO DO: decide if all the imports go here or inline, currently some may be duplicated\n",
    "# Plotting and math imports\n",
    "%matplotlib inline\n",
    "import numpy as np\n",
    "import scipy as sp\n",
    "import matplotlib as mpl\n",
    "import matplotlib.cm as cm\n",
    "import matplotlib.pyplot as plt\n",
    "import pandas as pd\n",
    "import seaborn as sns\n",
    "from six.moves import range\n",
    "\n",
    "# SKlearn imports\n",
    "from sklearn.model_selection import train_test_split\n",
    "from sklearn.feature_extraction.text import CountVectorizer\n",
    "from sklearn.feature_extraction.text import TfidfVectorizer\n",
    "from sklearn.naive_bayes import MultinomialNB\n",
    "from sklearn.model_selection import KFold\n",
    "from sklearn.model_selection import cross_val_score\n",
    "from sklearn.metrics import confusion_matrix\n",
    "from sklearn.metrics import classification_report\n",
    "from sklearn.metrics import roc_curve\n",
    "\n",
    "# Misc imports\n",
    "from collections import Counter\n",
    "\n",
    "# Setup Pandas\n",
    "pd.set_option('display.width', 500)\n",
    "pd.set_option('display.max_columns', 100)\n",
    "pd.set_option('display.notebook_repr_html', True)\n",
    "\n",
    "# Setup Seaborn\n",
    "sns.set_style(\"whitegrid\")\n",
    "sns.set_context(\"poster\")"
   ]
  },
  {
   "cell_type": "code",
   "execution_count": 50,
   "metadata": {},
   "outputs": [
    {
     "data": {
      "text/plain": [
       "Index(['document', 'DFEDTAR_20081215', 'Diff', 'Changed'], dtype='object')"
      ]
     },
     "execution_count": 50,
     "metadata": {},
     "output_type": "execute_result"
    }
   ],
   "source": [
    "# Make sure we can read the df \n",
    "change_df.columns"
   ]
  },
  {
   "cell_type": "code",
   "execution_count": 51,
   "metadata": {
    "collapsed": true
   },
   "outputs": [],
   "source": [
    "# Split the dataset into a training and test set with a 70/30 training/test ratio \n",
    "# Sets a random seed for reproducible results\n",
    "# We are only using the text data here for the X, and the 'did the rate change from previous period' for the predict\n",
    "X = change_df['document']\n",
    "y = change_df['Changed']\n",
    "X_train, X_test, y_train, y_test = train_test_split(X, y, \n",
    "                                                    test_size=0.3, \n",
    "                                                    random_state=42,\n",
    "                                                    stratify=y)"
   ]
  },
  {
   "cell_type": "code",
   "execution_count": 52,
   "metadata": {},
   "outputs": [
    {
     "data": {
      "text/plain": [
       "(54,)"
      ]
     },
     "execution_count": 52,
     "metadata": {},
     "output_type": "execute_result"
    }
   ],
   "source": [
    "# Check the shape of X\n",
    "X.shape"
   ]
  },
  {
   "cell_type": "code",
   "execution_count": 53,
   "metadata": {},
   "outputs": [
    {
     "data": {
      "text/plain": [
       "(54,)"
      ]
     },
     "execution_count": 53,
     "metadata": {},
     "output_type": "execute_result"
    }
   ],
   "source": [
    "# Check the shape of y\n",
    "y.shape"
   ]
  },
  {
   "cell_type": "code",
   "execution_count": 54,
   "metadata": {},
   "outputs": [
    {
     "data": {
      "text/plain": [
       "(37,)"
      ]
     },
     "execution_count": 54,
     "metadata": {},
     "output_type": "execute_result"
    }
   ],
   "source": [
    "X_train.shape"
   ]
  },
  {
   "cell_type": "code",
   "execution_count": 55,
   "metadata": {},
   "outputs": [
    {
     "data": {
      "text/plain": [
       "filedate\n",
       "2001-05-15    fomc meet today decid low target fedfundsr bas...\n",
       "2002-01-30    fomc decid today keep target fedfundsr unchang...\n",
       "2005-02-02    fomc decid today rais target fedfundsr bas poi...\n",
       "2005-11-01    fomc decid today rais target fedfundsr bas poi...\n",
       "2005-06-30    fomc decid today rais target fedfundsr bas poi...\n",
       "Name: document, dtype: object"
      ]
     },
     "execution_count": 55,
     "metadata": {},
     "output_type": "execute_result"
    }
   ],
   "source": [
    "X_train.head()"
   ]
  },
  {
   "cell_type": "code",
   "execution_count": 56,
   "metadata": {},
   "outputs": [
    {
     "data": {
      "text/plain": [
       "(37,)"
      ]
     },
     "execution_count": 56,
     "metadata": {},
     "output_type": "execute_result"
    }
   ],
   "source": [
    "y_train.shape"
   ]
  },
  {
   "cell_type": "code",
   "execution_count": 57,
   "metadata": {
    "collapsed": true
   },
   "outputs": [],
   "source": [
    "# Setup a pipeline\n",
    "# Imports again here need to clean up from below some dupes and ones not being used\n",
    "from sklearn.model_selection import train_test_split\n",
    "from sklearn.preprocessing import StandardScaler\n",
    "from sklearn.decomposition import PCA\n",
    "from sklearn.pipeline import Pipeline\n",
    "from sklearn.externals import joblib\n",
    "from sklearn.linear_model import LogisticRegression\n",
    "from sklearn import svm\n",
    "from sklearn import tree\n",
    "\n",
    "# Below here are imports from previous setup, some dupe from above\n",
    "# TO DO: cleam up setup dupes\n",
    "\n",
    "from sklearn.pipeline import Pipeline\n",
    "\n",
    "# Vectorize and transform\n",
    "from sklearn.feature_extraction.text import CountVectorizer, TfidfTransformer, TfidfVectorizer\n",
    "from sklearn.naive_bayes import MultinomialNB\n",
    "from sklearn.linear_model import LogisticRegression\n",
    "from sklearn.ensemble import RandomForestRegressor\n",
    "from sklearn.datasets import make_regression\n",
    "from sklearn import ensemble # this is for Gradient Boosting\n",
    "from sklearn import svm # the import is svm but the model name called is svc; removed for now not working\n",
    "from sklearn.model_selection import cross_val_score      "
   ]
  },
  {
   "cell_type": "code",
   "execution_count": 58,
   "metadata": {},
   "outputs": [
    {
     "name": "stdout",
     "output_type": "stream",
     "text": [
      "Naive Bayes pipeline train accuracy: 0.973\n",
      "Logistic Regression pipeline train accuracy: 1.000\n",
      "Support Vector Machine pipeline train accuracy: 1.000\n",
      "Decision Tree pipeline train accuracy: 1.000\n",
      "Naive Bayes pipeline test accuracy: 0.941\n",
      "Logistic Regression pipeline test accuracy: 0.882\n",
      "Support Vector Machine pipeline test accuracy: 0.882\n",
      "Decision Tree pipeline test accuracy: 0.941\n",
      "Classifier with best accuracy on test data (or tied): Naive Bayes\n"
     ]
    },
    {
     "name": "stderr",
     "output_type": "stream",
     "text": [
      "/Users/michellebonat/anaconda2/envs/Fed_Funds_ML/lib/python3.7/site-packages/sklearn/linear_model/logistic.py:433: FutureWarning: Default solver will be changed to 'lbfgs' in 0.22. Specify a solver to silence this warning.\n",
      "  FutureWarning)\n",
      "/Users/michellebonat/anaconda2/envs/Fed_Funds_ML/lib/python3.7/site-packages/sklearn/svm/base.py:196: FutureWarning: The default value of gamma will change from 'auto' to 'scale' in version 0.22 to account better for unscaled features. Set gamma explicitly to 'auto' or 'scale' to avoid this warning.\n",
      "  \"avoid this warning.\", FutureWarning)\n"
     ]
    }
   ],
   "source": [
    "# Construct pipelines for stacking multiple models\n",
    "# The output from tfidf transformer goes into each of the models\n",
    "pipe_nb = Pipeline([('vect', CountVectorizer(stop_words='english')),\n",
    "                      ('tfidf', TfidfTransformer()),\n",
    "                      ('clf', MultinomialNB()),])\n",
    "\n",
    "pipe_lr = Pipeline([('vect', CountVectorizer(stop_words='english')),\n",
    "                      ('tfidf', TfidfTransformer()),\n",
    "                      ('scl', StandardScaler(with_mean=False)),\n",
    "                      ('clf', LogisticRegression(random_state=42))])\n",
    "\n",
    "pipe_svm = Pipeline([('vect', CountVectorizer(stop_words='english')),\n",
    "                      ('tfidf', TfidfTransformer()),\n",
    "                      ('scl', StandardScaler(with_mean=False)),\n",
    "                      ('clf', svm.SVC(random_state=42))])\n",
    "\n",
    "pipe_dt = Pipeline([('vect', CountVectorizer(stop_words='english')),\n",
    "                      ('tfidf', TfidfTransformer()),\n",
    "                      ('scl', StandardScaler(with_mean=False)),\n",
    "                      ('clf', tree.DecisionTreeClassifier(random_state=42))])\n",
    "\n",
    "# List of pipelines for ease of iteration\n",
    "pipelines = [pipe_nb, pipe_lr, pipe_svm, pipe_dt]\n",
    "\n",
    "# Dictionary of pipelines and classifier types for ease of reference\n",
    "pipe_dict = {0: 'Naive Bayes', 1: 'Logistic Regression', 2: 'Support Vector Machine', 3: 'Decision Tree'}\n",
    "\n",
    "# Fit and predict using the pipelines\n",
    "for pipe in pipelines:\n",
    "    pipe.fit(X_train, y_train)\n",
    "    y_pred = pipe.predict(X_test)\n",
    "# Compare accuracies\n",
    "for idx, val in enumerate(pipelines):\n",
    "    print('%s pipeline train accuracy: %.3f' % (pipe_dict[idx], val.score(X_train, y_train)))\n",
    "\n",
    "for idx, val in enumerate(pipelines):\n",
    "    print('%s pipeline test accuracy: %.3f' % (pipe_dict[idx], val.score(X_test, y_test)))\n",
    "    \n",
    "# for idx, val in enumerate(pipelines):\n",
    "#     print('%s pipeline predict accuracy: %.3f' % (pipe_dict[idx], val.score(y_pred)))\n",
    "# AttributeError: 'numpy.int64' object has no attribute 'lower'\n",
    "\n",
    "# Identify the most accurate model on test data\n",
    "best_acc = 0.0\n",
    "best_clf = 0\n",
    "best_pipe = ''\n",
    "for idx, val in enumerate(pipelines):\n",
    "    if val.score(X_test, y_test) > best_acc:\n",
    "        best_acc = val.score(X_test, y_test)\n",
    "        best_pipe = val\n",
    "        best_clf = idx\n",
    "print('Classifier with best accuracy on test data (or tied): %s' % pipe_dict[best_clf])\n",
    "\n",
    "# Save pipeline to file\n",
    "#joblib.dump(best_pipe, 'best_pipeline.pkl', compress=1)\n",
    "#print('Saved %s pipeline to file' % pipe_dict[best_clf])"
   ]
  },
  {
   "cell_type": "markdown",
   "metadata": {},
   "source": [
    "### Calculate metrics for multiple models in a single pipeline"
   ]
  },
  {
   "cell_type": "markdown",
   "metadata": {},
   "source": [
    "### This is hard coded grouping, so update or hide when you change the inputs. \n",
    "The model results grouped by model:\n",
    "\n",
    "Naive Bayes pipeline train accuracy: 0.973\n",
    "\n",
    "Naive Bayes pipeline test accuracy: 0.941\n",
    "\n",
    "\n",
    "\n",
    "Logistic Regression pipeline train accuracy: 1.000\n",
    "\n",
    "Logistic Regression pipeline test accuracy: 0.882\n",
    "\n",
    "\n",
    "\n",
    "Support Vector Machine pipeline train accuracy: 1.000\n",
    "\n",
    "Support Vector Machine pipeline test accuracy: 0.882\n",
    "\n",
    "\n",
    "\n",
    "Decision Tree pipeline train accuracy: 1.000\n",
    "\n",
    "Decision Tree pipeline test accuracy: 0.941\n",
    "\n",
    "\n",
    "Classifier with best accuracy on test data (or tied): Naive Bayes\n"
   ]
  },
  {
   "cell_type": "markdown",
   "metadata": {},
   "source": [
    "### Metrics for multiple models in a single pipeline"
   ]
  },
  {
   "cell_type": "code",
   "execution_count": null,
   "metadata": {
    "collapsed": true
   },
   "outputs": [],
   "source": [
    "# TBD"
   ]
  },
  {
   "cell_type": "markdown",
   "metadata": {
    "collapsed": true
   },
   "source": [
    "### These metrics below are used when running with a single model in the pipeline. To use this, comment the other models in pipeline before you run them."
   ]
  },
  {
   "cell_type": "code",
   "execution_count": 95,
   "metadata": {
    "collapsed": true
   },
   "outputs": [],
   "source": [
    "#model = pipe_nb.fit(X_train, y_train)"
   ]
  },
  {
   "cell_type": "code",
   "execution_count": 96,
   "metadata": {
    "collapsed": true
   },
   "outputs": [],
   "source": [
    "#predicted = model.predict(X_test)"
   ]
  },
  {
   "cell_type": "code",
   "execution_count": 97,
   "metadata": {
    "collapsed": true
   },
   "outputs": [],
   "source": [
    "#from sklearn.metrics import precision_score,recall_score,f1_score, accuracy_score, confusion_matrix"
   ]
  },
  {
   "cell_type": "code",
   "execution_count": 98,
   "metadata": {},
   "outputs": [
    {
     "data": {
      "text/plain": [
       "array([[8, 1],\n",
       "       [0, 8]])"
      ]
     },
     "execution_count": 98,
     "metadata": {},
     "output_type": "execute_result"
    }
   ],
   "source": [
    "#confusion_matrix(y_test,predicted)"
   ]
  },
  {
   "cell_type": "code",
   "execution_count": 99,
   "metadata": {},
   "outputs": [
    {
     "data": {
      "text/plain": [
       "0.9411764705882353"
      ]
     },
     "execution_count": 99,
     "metadata": {},
     "output_type": "execute_result"
    }
   ],
   "source": [
    "#accuracy_score(y_test,predicted)"
   ]
  },
  {
   "cell_type": "code",
   "execution_count": 100,
   "metadata": {},
   "outputs": [
    {
     "data": {
      "text/plain": [
       "0.8888888888888888"
      ]
     },
     "execution_count": 100,
     "metadata": {},
     "output_type": "execute_result"
    }
   ],
   "source": [
    "#precision_score(y_test,predicted)"
   ]
  },
  {
   "cell_type": "code",
   "execution_count": 101,
   "metadata": {},
   "outputs": [
    {
     "data": {
      "text/plain": [
       "1.0"
      ]
     },
     "execution_count": 101,
     "metadata": {},
     "output_type": "execute_result"
    }
   ],
   "source": [
    "#recall_score(y_test,predicted)"
   ]
  },
  {
   "cell_type": "code",
   "execution_count": 102,
   "metadata": {},
   "outputs": [
    {
     "data": {
      "text/plain": [
       "0.9411764705882353"
      ]
     },
     "execution_count": 102,
     "metadata": {},
     "output_type": "execute_result"
    }
   ],
   "source": [
    "#f1_score(y_test,predicted)"
   ]
  },
  {
   "cell_type": "code",
   "execution_count": 103,
   "metadata": {},
   "outputs": [
    {
     "name": "stdout",
     "output_type": "stream",
     "text": [
      "              precision    recall  f1-score   support\n",
      "\n",
      "           0       1.00      0.89      0.94         9\n",
      "           1       0.89      1.00      0.94         8\n",
      "\n",
      "   micro avg       0.94      0.94      0.94        17\n",
      "   macro avg       0.94      0.94      0.94        17\n",
      "weighted avg       0.95      0.94      0.94        17\n",
      "\n"
     ]
    }
   ],
   "source": [
    "#from sklearn.metrics import classification_report\n",
    "#print(classification_report(y_test, predicted))"
   ]
  }
 ],
 "metadata": {
  "kernelspec": {
   "display_name": "Python 3",
   "language": "python",
   "name": "python3"
  },
  "language_info": {
   "codemirror_mode": {
    "name": "ipython",
    "version": 3
   },
   "file_extension": ".py",
   "mimetype": "text/x-python",
   "name": "python",
   "nbconvert_exporter": "python",
   "pygments_lexer": "ipython3",
   "version": "3.7.3"
  },
  "stem_cell": {
   "cell_type": "raw",
   "metadata": {
    "pycharm": {
     "metadata": false
    }
   },
   "source": "# Setup\n\nimport pandas as pd\nimport numpy as np\nimport matplotlib.pyplot as plt\nimport seaborn as sns\nfrom sklearn import model_selection, metrics  #to include metrics for evaluation \nfrom sklearn.model_selection import train_test_split\n%matplotlib inline\n\n# Get the fed funds historical data I staged on AWS\n\n!wget https://s3-us-west-2.amazonaws.com/fedfundsml/Fed_funds_rate_1954_2019_NoHeader.csv\n\n# Check if it renders correctly\ndata_ff = pd.read_csv('Fed_funds_rate_1954_2019_NoHeader.csv')\ndata_ff.head()"
  }
 },
 "nbformat": 4,
 "nbformat_minor": 2
}
